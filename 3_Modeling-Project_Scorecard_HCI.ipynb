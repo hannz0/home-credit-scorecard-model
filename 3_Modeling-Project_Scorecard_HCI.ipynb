{
 "cells": [
  {
   "cell_type": "markdown",
   "id": "4f185b35",
   "metadata": {},
   "source": [
    "# Home Score Card Model"
   ]
  },
  {
   "cell_type": "markdown",
   "id": "a7d3cd84",
   "metadata": {},
   "source": [
    "Home Credit Indonesia strives to make predictions through alternative data using various statistical methods and Machine Learning. The prediction model is expected to be able to determine which customers who are able to repay are not rejected when applying for a loan, and loans can be given with a principal, maturity, and repayment calendar that will motivate customers to succeed."
   ]
  },
  {
   "cell_type": "markdown",
   "id": "9b70a215",
   "metadata": {},
   "source": [
    "**Objective**\n",
    "1. Identify customers who have difficulty in repaying loans.\n",
    "2. Predict customers who have the capacity to repay their loans."
   ]
  },
  {
   "cell_type": "markdown",
   "id": "bdd70ce9",
   "metadata": {},
   "source": [
    "**Goals**\n",
    "1. Perform data cleaning, data visualization and build prediction models with machine learning.\n",
    "2. Predict customer repayment ability with the best machine learning model.\n",
    "3. Provide recommendations to the company to increase customer success in the next loan application."
   ]
  },
  {
   "cell_type": "markdown",
   "id": "19043677",
   "metadata": {},
   "source": [
    "# Import Library"
   ]
  },
  {
   "cell_type": "code",
   "execution_count": 50,
   "id": "5015ebbf",
   "metadata": {},
   "outputs": [],
   "source": [
    "import pandas as pd\n",
    "import numpy as np\n",
    "import seaborn as sns\n",
    "import matplotlib.pyplot as plt\n",
    "\n",
    "from sklearn.feature_selection import SelectKBest #feature selection\n",
    "from sklearn.feature_selection import chi2\n",
    "\n",
    "from sklearn.model_selection import train_test_split\n",
    "from sklearn.preprocessing import StandardScaler\n",
    "from imblearn.under_sampling import RandomUnderSampler\n",
    "from imblearn.over_sampling import RandomOverSampler\n",
    "\n",
    "from sklearn.linear_model import LogisticRegression\n",
    "from lightgbm import LGBMClassifier\n",
    "from sklearn import tree\n",
    "from sklearn.tree import DecisionTreeClassifier\n",
    "from sklearn.ensemble import RandomForestClassifier\n",
    "\n",
    "from sklearn.metrics import confusion_matrix, accuracy_score, classification_report, roc_auc_score\n",
    "import joblib\n",
    "import warnings\n",
    "warnings.filterwarnings('ignore')"
   ]
  },
  {
   "cell_type": "markdown",
   "id": "c956ccfd",
   "metadata": {},
   "source": [
    "# Load Dataset"
   ]
  },
  {
   "cell_type": "code",
   "execution_count": 51,
   "id": "e45a3af5",
   "metadata": {},
   "outputs": [],
   "source": [
    "def minimize_mem(df):\n",
    "    \n",
    "    initial_mem = df.memory_usage().sum() / 1024**2\n",
    "    print('Memory usage of dataframe: {:.2f} MB'.format(initial_mem))\n",
    "    \n",
    "    for col in df.columns:\n",
    "        col_type = df[col].dtype\n",
    "        \n",
    "        if col_type != object:\n",
    "            c_min = df[col].min()\n",
    "            c_max = df[col].max()\n",
    "            if str(col_type)[:3] == 'int':\n",
    "                if c_min > np.iinfo(np.int8).min and c_max < np.iinfo(np.int8).max:\n",
    "                    df[col] = df[col].astype(np.int8)\n",
    "                elif c_min > np.iinfo(np.int16).min and c_max < np.iinfo(np.int16).max:\n",
    "                    df[col] = df[col].astype(np.int16)\n",
    "                elif c_min > np.iinfo(np.int32).min and c_max < np.iinfo(np.int32).max:\n",
    "                    df[col] = df[col].astype(np.int32)\n",
    "                elif c_min > np.iinfo(np.int64).min and c_max < np.iinfo(np.int64).max:\n",
    "                    df[col] = df[col].astype(np.int64)  \n",
    "            else:\n",
    "                if c_min > np.finfo(np.float16).min and c_max < np.finfo(np.float16).max:\n",
    "                    df[col] = df[col].astype(np.float16)\n",
    "                elif c_min > np.finfo(np.float32).min and c_max < np.finfo(np.float32).max:\n",
    "                    df[col] = df[col].astype(np.float32)\n",
    "                else:\n",
    "                    df[col] = df[col].astype(np.float64)\n",
    "        else:\n",
    "            df[col] = df[col].astype('category')\n",
    "\n",
    "    final_mem = df.memory_usage().sum() / 1024**2\n",
    "    \n",
    "    print('After optimization: {:.2f} MB'.format(final_mem))\n",
    "    \n",
    "    return df\n",
    "\n",
    "def import_df(file):\n",
    "    df = pd.read_csv(file)\n",
    "    df = minimize_mem(df)\n",
    "    return df"
   ]
  },
  {
   "cell_type": "code",
   "execution_count": 52,
   "id": "66ab8676",
   "metadata": {},
   "outputs": [
    {
     "name": "stdout",
     "output_type": "stream",
     "text": [
      "Memory usage of dataframe: 434.03 MB\n",
      "After optimization: 109.39 MB\n"
     ]
    },
    {
     "data": {
      "text/html": [
       "<div>\n",
       "<style scoped>\n",
       "    .dataframe tbody tr th:only-of-type {\n",
       "        vertical-align: middle;\n",
       "    }\n",
       "\n",
       "    .dataframe tbody tr th {\n",
       "        vertical-align: top;\n",
       "    }\n",
       "\n",
       "    .dataframe thead th {\n",
       "        text-align: right;\n",
       "    }\n",
       "</style>\n",
       "<table border=\"1\" class=\"dataframe\">\n",
       "  <thead>\n",
       "    <tr style=\"text-align: right;\">\n",
       "      <th></th>\n",
       "      <th>SK_ID_CURR</th>\n",
       "      <th>TARGET</th>\n",
       "      <th>NAME_CONTRACT_TYPE</th>\n",
       "      <th>CODE_GENDER</th>\n",
       "      <th>FLAG_OWN_CAR</th>\n",
       "      <th>FLAG_OWN_REALTY</th>\n",
       "      <th>CNT_CHILDREN</th>\n",
       "      <th>AMT_INCOME_TOTAL</th>\n",
       "      <th>AMT_CREDIT</th>\n",
       "      <th>AMT_ANNUITY</th>\n",
       "      <th>...</th>\n",
       "      <th>PREV_POS_NAME_CONTRACT_STATUS</th>\n",
       "      <th>PREV_POS_SK_DPD</th>\n",
       "      <th>PREV_POS_SK_DPD_DEF</th>\n",
       "      <th>PREV_INST_SK_ID_CURR</th>\n",
       "      <th>PREV_INST_NUM_INSTALMENT_VERSION</th>\n",
       "      <th>PREV_INST_NUM_INSTALMENT_NUMBER</th>\n",
       "      <th>PREV_INST_DAYS_INSTALMENT</th>\n",
       "      <th>PREV_INST_DAYS_ENTRY_PAYMENT</th>\n",
       "      <th>PREV_INST_AMT_INSTALMENT</th>\n",
       "      <th>PREV_INST_AMT_PAYMENT</th>\n",
       "    </tr>\n",
       "  </thead>\n",
       "  <tbody>\n",
       "    <tr>\n",
       "      <th>0</th>\n",
       "      <td>100002</td>\n",
       "      <td>1</td>\n",
       "      <td>0</td>\n",
       "      <td>1</td>\n",
       "      <td>0</td>\n",
       "      <td>1</td>\n",
       "      <td>0</td>\n",
       "      <td>202500.0</td>\n",
       "      <td>406597.5</td>\n",
       "      <td>24700.5</td>\n",
       "      <td>...</td>\n",
       "      <td>0.000000</td>\n",
       "      <td>0.0</td>\n",
       "      <td>0.0</td>\n",
       "      <td>100002.0</td>\n",
       "      <td>1.052734</td>\n",
       "      <td>10.000000</td>\n",
       "      <td>-295.00</td>\n",
       "      <td>-315.5</td>\n",
       "      <td>11559.247070</td>\n",
       "      <td>11559.247070</td>\n",
       "    </tr>\n",
       "    <tr>\n",
       "      <th>1</th>\n",
       "      <td>100003</td>\n",
       "      <td>0</td>\n",
       "      <td>0</td>\n",
       "      <td>0</td>\n",
       "      <td>0</td>\n",
       "      <td>0</td>\n",
       "      <td>0</td>\n",
       "      <td>270000.0</td>\n",
       "      <td>1293502.5</td>\n",
       "      <td>35698.5</td>\n",
       "      <td>...</td>\n",
       "      <td>0.333252</td>\n",
       "      <td>0.0</td>\n",
       "      <td>0.0</td>\n",
       "      <td>100003.0</td>\n",
       "      <td>1.047852</td>\n",
       "      <td>4.667969</td>\n",
       "      <td>-1164.00</td>\n",
       "      <td>-1172.0</td>\n",
       "      <td>78558.484375</td>\n",
       "      <td>78558.484375</td>\n",
       "    </tr>\n",
       "    <tr>\n",
       "      <th>2</th>\n",
       "      <td>100004</td>\n",
       "      <td>0</td>\n",
       "      <td>1</td>\n",
       "      <td>1</td>\n",
       "      <td>1</td>\n",
       "      <td>1</td>\n",
       "      <td>0</td>\n",
       "      <td>67500.0</td>\n",
       "      <td>135000.0</td>\n",
       "      <td>6750.0</td>\n",
       "      <td>...</td>\n",
       "      <td>1.000000</td>\n",
       "      <td>0.0</td>\n",
       "      <td>0.0</td>\n",
       "      <td>100004.0</td>\n",
       "      <td>1.333008</td>\n",
       "      <td>2.000000</td>\n",
       "      <td>-754.00</td>\n",
       "      <td>-761.5</td>\n",
       "      <td>7096.154785</td>\n",
       "      <td>7096.154785</td>\n",
       "    </tr>\n",
       "    <tr>\n",
       "      <th>3</th>\n",
       "      <td>100006</td>\n",
       "      <td>0</td>\n",
       "      <td>0</td>\n",
       "      <td>0</td>\n",
       "      <td>0</td>\n",
       "      <td>1</td>\n",
       "      <td>0</td>\n",
       "      <td>135000.0</td>\n",
       "      <td>312682.5</td>\n",
       "      <td>29686.5</td>\n",
       "      <td>...</td>\n",
       "      <td>0.861328</td>\n",
       "      <td>0.0</td>\n",
       "      <td>0.0</td>\n",
       "      <td>100006.0</td>\n",
       "      <td>1.400391</td>\n",
       "      <td>3.166016</td>\n",
       "      <td>-260.75</td>\n",
       "      <td>-286.0</td>\n",
       "      <td>241944.234375</td>\n",
       "      <td>241944.234375</td>\n",
       "    </tr>\n",
       "    <tr>\n",
       "      <th>4</th>\n",
       "      <td>100007</td>\n",
       "      <td>0</td>\n",
       "      <td>0</td>\n",
       "      <td>1</td>\n",
       "      <td>0</td>\n",
       "      <td>1</td>\n",
       "      <td>0</td>\n",
       "      <td>121500.0</td>\n",
       "      <td>513000.0</td>\n",
       "      <td>21865.5</td>\n",
       "      <td>...</td>\n",
       "      <td>0.275146</td>\n",
       "      <td>0.0</td>\n",
       "      <td>0.0</td>\n",
       "      <td>100007.0</td>\n",
       "      <td>1.129883</td>\n",
       "      <td>6.843750</td>\n",
       "      <td>-1088.00</td>\n",
       "      <td>-1091.0</td>\n",
       "      <td>12122.995117</td>\n",
       "      <td>11671.539062</td>\n",
       "    </tr>\n",
       "  </tbody>\n",
       "</table>\n",
       "<p>5 rows × 185 columns</p>\n",
       "</div>"
      ],
      "text/plain": [
       "   SK_ID_CURR  TARGET  NAME_CONTRACT_TYPE  CODE_GENDER  FLAG_OWN_CAR  \\\n",
       "0      100002       1                   0            1             0   \n",
       "1      100003       0                   0            0             0   \n",
       "2      100004       0                   1            1             1   \n",
       "3      100006       0                   0            0             0   \n",
       "4      100007       0                   0            1             0   \n",
       "\n",
       "   FLAG_OWN_REALTY  CNT_CHILDREN  AMT_INCOME_TOTAL  AMT_CREDIT  AMT_ANNUITY  \\\n",
       "0                1             0          202500.0    406597.5      24700.5   \n",
       "1                0             0          270000.0   1293502.5      35698.5   \n",
       "2                1             0           67500.0    135000.0       6750.0   \n",
       "3                1             0          135000.0    312682.5      29686.5   \n",
       "4                1             0          121500.0    513000.0      21865.5   \n",
       "\n",
       "   ...  PREV_POS_NAME_CONTRACT_STATUS  PREV_POS_SK_DPD  PREV_POS_SK_DPD_DEF  \\\n",
       "0  ...                       0.000000              0.0                  0.0   \n",
       "1  ...                       0.333252              0.0                  0.0   \n",
       "2  ...                       1.000000              0.0                  0.0   \n",
       "3  ...                       0.861328              0.0                  0.0   \n",
       "4  ...                       0.275146              0.0                  0.0   \n",
       "\n",
       "   PREV_INST_SK_ID_CURR  PREV_INST_NUM_INSTALMENT_VERSION  \\\n",
       "0              100002.0                          1.052734   \n",
       "1              100003.0                          1.047852   \n",
       "2              100004.0                          1.333008   \n",
       "3              100006.0                          1.400391   \n",
       "4              100007.0                          1.129883   \n",
       "\n",
       "   PREV_INST_NUM_INSTALMENT_NUMBER  PREV_INST_DAYS_INSTALMENT  \\\n",
       "0                        10.000000                    -295.00   \n",
       "1                         4.667969                   -1164.00   \n",
       "2                         2.000000                    -754.00   \n",
       "3                         3.166016                    -260.75   \n",
       "4                         6.843750                   -1088.00   \n",
       "\n",
       "   PREV_INST_DAYS_ENTRY_PAYMENT  PREV_INST_AMT_INSTALMENT  \\\n",
       "0                        -315.5              11559.247070   \n",
       "1                       -1172.0              78558.484375   \n",
       "2                        -761.5               7096.154785   \n",
       "3                        -286.0             241944.234375   \n",
       "4                       -1091.0              12122.995117   \n",
       "\n",
       "   PREV_INST_AMT_PAYMENT  \n",
       "0           11559.247070  \n",
       "1           78558.484375  \n",
       "2            7096.154785  \n",
       "3          241944.234375  \n",
       "4           11671.539062  \n",
       "\n",
       "[5 rows x 185 columns]"
      ]
     },
     "execution_count": 52,
     "metadata": {},
     "output_type": "execute_result"
    }
   ],
   "source": [
    "data_train = import_df('C:\\\\Users\\\\Administrator\\\\Documents\\\\Rakamin\\\\final_train.csv')\n",
    "data_train.head()"
   ]
  },
  {
   "cell_type": "code",
   "execution_count": 53,
   "id": "7bbd3fdb",
   "metadata": {},
   "outputs": [
    {
     "data": {
      "text/plain": [
       "(307511, 185)"
      ]
     },
     "execution_count": 53,
     "metadata": {},
     "output_type": "execute_result"
    }
   ],
   "source": [
    "data_train.shape"
   ]
  },
  {
   "cell_type": "markdown",
   "id": "f5b0c982",
   "metadata": {},
   "source": [
    "# Feature Selection"
   ]
  },
  {
   "cell_type": "code",
   "execution_count": 54,
   "id": "348fc02c",
   "metadata": {},
   "outputs": [],
   "source": [
    "for col in data_train.columns[data_train.lt(0).any()]:\n",
    "    data_train[col] = data_train[col].abs()"
   ]
  },
  {
   "cell_type": "code",
   "execution_count": 55,
   "id": "06745e8f",
   "metadata": {},
   "outputs": [],
   "source": [
    "x = data_train.drop(columns=['TARGET', 'SK_ID_CURR'], axis=1)\n",
    "y = data_train['TARGET']"
   ]
  },
  {
   "cell_type": "code",
   "execution_count": 56,
   "id": "9854d1fd",
   "metadata": {},
   "outputs": [
    {
     "name": "stdout",
     "output_type": "stream",
     "text": [
      "(307511, 183)\n",
      "(307511,)\n"
     ]
    }
   ],
   "source": [
    "print(x.shape)\n",
    "print(y.shape)"
   ]
  },
  {
   "cell_type": "code",
   "execution_count": 57,
   "id": "7766f672",
   "metadata": {},
   "outputs": [
    {
     "data": {
      "text/plain": [
       "56889535"
      ]
     },
     "execution_count": 57,
     "metadata": {},
     "output_type": "execute_result"
    }
   ],
   "source": [
    "data_train.size"
   ]
  },
  {
   "cell_type": "code",
   "execution_count": 58,
   "id": "f3e4b3f2",
   "metadata": {
    "scrolled": true
   },
   "outputs": [
    {
     "data": {
      "text/html": [
       "<div>\n",
       "<style scoped>\n",
       "    .dataframe tbody tr th:only-of-type {\n",
       "        vertical-align: middle;\n",
       "    }\n",
       "\n",
       "    .dataframe tbody tr th {\n",
       "        vertical-align: top;\n",
       "    }\n",
       "\n",
       "    .dataframe thead th {\n",
       "        text-align: right;\n",
       "    }\n",
       "</style>\n",
       "<table border=\"1\" class=\"dataframe\">\n",
       "  <thead>\n",
       "    <tr style=\"text-align: right;\">\n",
       "      <th></th>\n",
       "      <th>Features</th>\n",
       "      <th>Score</th>\n",
       "    </tr>\n",
       "  </thead>\n",
       "  <tbody>\n",
       "    <tr>\n",
       "      <th>129</th>\n",
       "      <td>BURE_AMT_CREDIT_SUM</td>\n",
       "      <td>2.500367e+08</td>\n",
       "    </tr>\n",
       "    <tr>\n",
       "      <th>16</th>\n",
       "      <td>DAYS_EMPLOYED</td>\n",
       "      <td>1.954124e+08</td>\n",
       "    </tr>\n",
       "    <tr>\n",
       "      <th>8</th>\n",
       "      <td>AMT_GOODS_PRICE</td>\n",
       "      <td>1.223080e+08</td>\n",
       "    </tr>\n",
       "    <tr>\n",
       "      <th>6</th>\n",
       "      <td>AMT_CREDIT</td>\n",
       "      <td>7.669987e+07</td>\n",
       "    </tr>\n",
       "    <tr>\n",
       "      <th>165</th>\n",
       "      <td>PREV_DAYS_LAST_DUE_1ST_VERSION</td>\n",
       "      <td>3.773946e+07</td>\n",
       "    </tr>\n",
       "    <tr>\n",
       "      <th>166</th>\n",
       "      <td>PREV_DAYS_LAST_DUE</td>\n",
       "      <td>3.765372e+07</td>\n",
       "    </tr>\n",
       "    <tr>\n",
       "      <th>167</th>\n",
       "      <td>PREV_DAYS_TERMINATION</td>\n",
       "      <td>2.868925e+07</td>\n",
       "    </tr>\n",
       "    <tr>\n",
       "      <th>138</th>\n",
       "      <td>PREV_AMT_APPLICATION</td>\n",
       "      <td>1.809400e+07</td>\n",
       "    </tr>\n",
       "    <tr>\n",
       "      <th>127</th>\n",
       "      <td>BURE_AMT_CREDIT_MAX_OVERDUE</td>\n",
       "      <td>1.680393e+07</td>\n",
       "    </tr>\n",
       "    <tr>\n",
       "      <th>141</th>\n",
       "      <td>PREV_AMT_GOODS_PRICE</td>\n",
       "      <td>1.100917e+07</td>\n",
       "    </tr>\n",
       "    <tr>\n",
       "      <th>139</th>\n",
       "      <td>PREV_AMT_CREDIT</td>\n",
       "      <td>9.947166e+06</td>\n",
       "    </tr>\n",
       "    <tr>\n",
       "      <th>140</th>\n",
       "      <td>PREV_AMT_DOWN_PAYMENT</td>\n",
       "      <td>7.609262e+06</td>\n",
       "    </tr>\n",
       "    <tr>\n",
       "      <th>132</th>\n",
       "      <td>BURE_AMT_CREDIT_SUM_OVERDUE</td>\n",
       "      <td>7.073143e+06</td>\n",
       "    </tr>\n",
       "    <tr>\n",
       "      <th>131</th>\n",
       "      <td>BURE_AMT_CREDIT_SUM_LIMIT</td>\n",
       "      <td>7.036507e+06</td>\n",
       "    </tr>\n",
       "    <tr>\n",
       "      <th>163</th>\n",
       "      <td>PREV_DAYS_FIRST_DRAWING</td>\n",
       "      <td>6.335878e+06</td>\n",
       "    </tr>\n",
       "    <tr>\n",
       "      <th>130</th>\n",
       "      <td>BURE_AMT_CREDIT_SUM_DEBT</td>\n",
       "      <td>4.283057e+06</td>\n",
       "    </tr>\n",
       "    <tr>\n",
       "      <th>182</th>\n",
       "      <td>PREV_INST_AMT_PAYMENT</td>\n",
       "      <td>3.452365e+06</td>\n",
       "    </tr>\n",
       "    <tr>\n",
       "      <th>164</th>\n",
       "      <td>PREV_DAYS_FIRST_DUE</td>\n",
       "      <td>2.673682e+06</td>\n",
       "    </tr>\n",
       "    <tr>\n",
       "      <th>15</th>\n",
       "      <td>DAYS_BIRTH</td>\n",
       "      <td>2.235391e+06</td>\n",
       "    </tr>\n",
       "    <tr>\n",
       "      <th>137</th>\n",
       "      <td>PREV_AMT_ANNUITY</td>\n",
       "      <td>2.203966e+06</td>\n",
       "    </tr>\n",
       "    <tr>\n",
       "      <th>181</th>\n",
       "      <td>PREV_INST_AMT_INSTALMENT</td>\n",
       "      <td>1.888116e+06</td>\n",
       "    </tr>\n",
       "    <tr>\n",
       "      <th>120</th>\n",
       "      <td>BURE_SK_ID_BUREAU</td>\n",
       "      <td>1.678309e+06</td>\n",
       "    </tr>\n",
       "    <tr>\n",
       "      <th>5</th>\n",
       "      <td>AMT_INCOME_TOTAL</td>\n",
       "      <td>1.624102e+06</td>\n",
       "    </tr>\n",
       "    <tr>\n",
       "      <th>17</th>\n",
       "      <td>DAYS_REGISTRATION</td>\n",
       "      <td>1.348570e+06</td>\n",
       "    </tr>\n",
       "    <tr>\n",
       "      <th>125</th>\n",
       "      <td>BURE_DAYS_CREDIT_ENDDATE</td>\n",
       "      <td>9.332499e+05</td>\n",
       "    </tr>\n",
       "    <tr>\n",
       "      <th>93</th>\n",
       "      <td>DAYS_LAST_PHONE_CHANGE</td>\n",
       "      <td>6.656955e+05</td>\n",
       "    </tr>\n",
       "    <tr>\n",
       "      <th>18</th>\n",
       "      <td>DAYS_ID_PUBLISH</td>\n",
       "      <td>6.195946e+05</td>\n",
       "    </tr>\n",
       "    <tr>\n",
       "      <th>123</th>\n",
       "      <td>BURE_DAYS_CREDIT</td>\n",
       "      <td>5.224657e+05</td>\n",
       "    </tr>\n",
       "    <tr>\n",
       "      <th>158</th>\n",
       "      <td>PREV_SELLERPLACE_AREA</td>\n",
       "      <td>4.282857e+05</td>\n",
       "    </tr>\n",
       "    <tr>\n",
       "      <th>134</th>\n",
       "      <td>BURE_DAYS_CREDIT_UPDATE</td>\n",
       "      <td>4.163190e+05</td>\n",
       "    </tr>\n",
       "  </tbody>\n",
       "</table>\n",
       "</div>"
      ],
      "text/plain": [
       "                           Features         Score\n",
       "129             BURE_AMT_CREDIT_SUM  2.500367e+08\n",
       "16                    DAYS_EMPLOYED  1.954124e+08\n",
       "8                   AMT_GOODS_PRICE  1.223080e+08\n",
       "6                        AMT_CREDIT  7.669987e+07\n",
       "165  PREV_DAYS_LAST_DUE_1ST_VERSION  3.773946e+07\n",
       "166              PREV_DAYS_LAST_DUE  3.765372e+07\n",
       "167           PREV_DAYS_TERMINATION  2.868925e+07\n",
       "138            PREV_AMT_APPLICATION  1.809400e+07\n",
       "127     BURE_AMT_CREDIT_MAX_OVERDUE  1.680393e+07\n",
       "141            PREV_AMT_GOODS_PRICE  1.100917e+07\n",
       "139                 PREV_AMT_CREDIT  9.947166e+06\n",
       "140           PREV_AMT_DOWN_PAYMENT  7.609262e+06\n",
       "132     BURE_AMT_CREDIT_SUM_OVERDUE  7.073143e+06\n",
       "131       BURE_AMT_CREDIT_SUM_LIMIT  7.036507e+06\n",
       "163         PREV_DAYS_FIRST_DRAWING  6.335878e+06\n",
       "130        BURE_AMT_CREDIT_SUM_DEBT  4.283057e+06\n",
       "182           PREV_INST_AMT_PAYMENT  3.452365e+06\n",
       "164             PREV_DAYS_FIRST_DUE  2.673682e+06\n",
       "15                       DAYS_BIRTH  2.235391e+06\n",
       "137                PREV_AMT_ANNUITY  2.203966e+06\n",
       "181        PREV_INST_AMT_INSTALMENT  1.888116e+06\n",
       "120               BURE_SK_ID_BUREAU  1.678309e+06\n",
       "5                  AMT_INCOME_TOTAL  1.624102e+06\n",
       "17                DAYS_REGISTRATION  1.348570e+06\n",
       "125        BURE_DAYS_CREDIT_ENDDATE  9.332499e+05\n",
       "93           DAYS_LAST_PHONE_CHANGE  6.656955e+05\n",
       "18                  DAYS_ID_PUBLISH  6.195946e+05\n",
       "123                BURE_DAYS_CREDIT  5.224657e+05\n",
       "158           PREV_SELLERPLACE_AREA  4.282857e+05\n",
       "134         BURE_DAYS_CREDIT_UPDATE  4.163190e+05"
      ]
     },
     "execution_count": 58,
     "metadata": {},
     "output_type": "execute_result"
    }
   ],
   "source": [
    "selection = SelectKBest(score_func=chi2, k=10)\n",
    "fitting = selection.fit(x,y)\n",
    "scores = pd.DataFrame(fitting.scores_)\n",
    "columndf = pd.DataFrame(x.columns)\n",
    "scoring_feature = pd.concat([columndf, scores], axis = 1)\n",
    "scoring_feature.columns = ['Features', 'Score']\n",
    "scoring_feature.sort_values(by=['Score'], ascending=False).head(30)"
   ]
  },
  {
   "cell_type": "markdown",
   "id": "bc422f4f",
   "metadata": {},
   "source": [
    "Feature selection using Select Kbest method on train data. Features used in the model are only 30 based on the order of the highest score. "
   ]
  },
  {
   "cell_type": "markdown",
   "id": "80ee9286",
   "metadata": {},
   "source": [
    "# Balancing Data"
   ]
  },
  {
   "cell_type": "code",
   "execution_count": 59,
   "id": "0371389e",
   "metadata": {},
   "outputs": [
    {
     "data": {
      "image/png": "[encoded data removed]",
      "text/plain": [
       "<Figure size 640x480 with 1 Axes>"
      ]
     },
     "metadata": {},
     "output_type": "display_data"
    }
   ],
   "source": [
    "sns.countplot(x='TARGET', data=data_train)\n",
    "plt.title(\"Number of Target\", loc=\"center\", fontsize=15, pad=10)\n",
    "plt.ylabel(None)\n",
    "plt.xlabel(None)\n",
    "plt.tick_params(axis='x', labelsize=10)\n",
    "plt.tick_params(axis='y', labelsize=12)\n",
    "plt.show()"
   ]
  },
  {
   "cell_type": "code",
   "execution_count": 60,
   "id": "a3525731",
   "metadata": {},
   "outputs": [
    {
     "data": {
      "text/plain": [
       "TARGET\n",
       "0    282686\n",
       "1     24825\n",
       "Name: count, dtype: int64"
      ]
     },
     "execution_count": 60,
     "metadata": {},
     "output_type": "execute_result"
    }
   ],
   "source": [
    "y.value_counts()"
   ]
  },
  {
   "cell_type": "markdown",
   "id": "604083cc",
   "metadata": {},
   "source": [
    "## Oversampling"
   ]
  },
  {
   "cell_type": "code",
   "execution_count": 61,
   "id": "90b7f391",
   "metadata": {},
   "outputs": [],
   "source": [
    "ros = RandomOverSampler(random_state=42)\n",
    "x_ros, y_ros = ros.fit_resample(x,y)"
   ]
  },
  {
   "cell_type": "code",
   "execution_count": 62,
   "id": "9742a91b",
   "metadata": {},
   "outputs": [
    {
     "name": "stdout",
     "output_type": "stream",
     "text": [
      "(565372, 183)\n",
      "(565372,)\n"
     ]
    }
   ],
   "source": [
    "print(x_ros.shape)\n",
    "print(y_ros.shape)"
   ]
  },
  {
   "cell_type": "code",
   "execution_count": 63,
   "id": "d22b3f9b",
   "metadata": {},
   "outputs": [
    {
     "data": {
      "text/plain": [
       "TARGET\n",
       "1    282686\n",
       "0    282686\n",
       "Name: count, dtype: int64"
      ]
     },
     "execution_count": 63,
     "metadata": {},
     "output_type": "execute_result"
    }
   ],
   "source": [
    "y_ros.value_counts()"
   ]
  },
  {
   "cell_type": "code",
   "execution_count": 64,
   "id": "5819890b",
   "metadata": {},
   "outputs": [
    {
     "data": {
      "image/png": "[encoded data removed]",
      "text/plain": [
       "<Figure size 640x480 with 1 Axes>"
      ]
     },
     "metadata": {},
     "output_type": "display_data"
    }
   ],
   "source": [
    "y_ros.value_counts().plot.pie(autopct='%1.1f%%', colors=['lightcoral', 'skyblue'])\n",
    "plt.title('Number of Target After Oversampling')\n",
    "plt.ylabel(None)\n",
    "plt.show()"
   ]
  },
  {
   "cell_type": "markdown",
   "id": "f08b1b12",
   "metadata": {},
   "source": [
    "## Undersampling"
   ]
  },
  {
   "cell_type": "code",
   "execution_count": 65,
   "id": "8d16dbdf",
   "metadata": {},
   "outputs": [],
   "source": [
    "rus = RandomUnderSampler(random_state=42)\n",
    "x_rus, y_rus = rus.fit_resample(x,y)"
   ]
  },
  {
   "cell_type": "code",
   "execution_count": 66,
   "id": "ec40e805",
   "metadata": {},
   "outputs": [
    {
     "name": "stdout",
     "output_type": "stream",
     "text": [
      "(49650, 183)\n",
      "(49650,)\n"
     ]
    }
   ],
   "source": [
    "print(x_rus.shape)\n",
    "print(y_rus.shape)"
   ]
  },
  {
   "cell_type": "code",
   "execution_count": 67,
   "id": "7fc07d94",
   "metadata": {},
   "outputs": [
    {
     "data": {
      "text/plain": [
       "TARGET\n",
       "0    24825\n",
       "1    24825\n",
       "Name: count, dtype: int64"
      ]
     },
     "execution_count": 67,
     "metadata": {},
     "output_type": "execute_result"
    }
   ],
   "source": [
    "y_rus.value_counts()"
   ]
  },
  {
   "cell_type": "code",
   "execution_count": 68,
   "id": "0a193121",
   "metadata": {},
   "outputs": [
    {
     "data": {
      "image/png": "[encoded data removed]",
      "text/plain": [
       "<Figure size 640x480 with 1 Axes>"
      ]
     },
     "metadata": {},
     "output_type": "display_data"
    }
   ],
   "source": [
    "y_rus.value_counts().plot.pie(autopct='%1.1f%%', colors=['skyblue', 'lightcoral'])\n",
    "plt.title('Number of Target After Undersampling')\n",
    "plt.ylabel(None)\n",
    "plt.show()"
   ]
  },
  {
   "cell_type": "markdown",
   "id": "4852f62c",
   "metadata": {},
   "source": [
    "# Split Data"
   ]
  },
  {
   "cell_type": "code",
   "execution_count": 69,
   "id": "0e54d240",
   "metadata": {},
   "outputs": [
    {
     "data": {
      "text/plain": [
       "['BURE_AMT_CREDIT_SUM',\n",
       " 'DAYS_EMPLOYED',\n",
       " 'AMT_GOODS_PRICE',\n",
       " 'AMT_CREDIT',\n",
       " 'PREV_DAYS_LAST_DUE_1ST_VERSION',\n",
       " 'PREV_DAYS_LAST_DUE',\n",
       " 'PREV_DAYS_TERMINATION',\n",
       " 'PREV_AMT_APPLICATION',\n",
       " 'BURE_AMT_CREDIT_MAX_OVERDUE',\n",
       " 'PREV_AMT_GOODS_PRICE',\n",
       " 'PREV_AMT_CREDIT',\n",
       " 'PREV_AMT_DOWN_PAYMENT',\n",
       " 'BURE_AMT_CREDIT_SUM_OVERDUE',\n",
       " 'BURE_AMT_CREDIT_SUM_LIMIT',\n",
       " 'PREV_DAYS_FIRST_DRAWING',\n",
       " 'BURE_AMT_CREDIT_SUM_DEBT',\n",
       " 'PREV_INST_AMT_PAYMENT',\n",
       " 'PREV_DAYS_FIRST_DUE',\n",
       " 'DAYS_BIRTH',\n",
       " 'PREV_AMT_ANNUITY',\n",
       " 'PREV_INST_AMT_INSTALMENT',\n",
       " 'BURE_SK_ID_BUREAU',\n",
       " 'AMT_INCOME_TOTAL',\n",
       " 'DAYS_REGISTRATION',\n",
       " 'BURE_DAYS_CREDIT_ENDDATE',\n",
       " 'DAYS_LAST_PHONE_CHANGE',\n",
       " 'DAYS_ID_PUBLISH',\n",
       " 'BURE_DAYS_CREDIT',\n",
       " 'PREV_SELLERPLACE_AREA',\n",
       " 'BURE_DAYS_CREDIT_UPDATE']"
      ]
     },
     "execution_count": 69,
     "metadata": {},
     "output_type": "execute_result"
    }
   ],
   "source": [
    "scoring_feature.sort_values(by='Score', ascending=False).Features.head(30).to_list()"
   ]
  },
  {
   "cell_type": "markdown",
   "id": "b271872a",
   "metadata": {},
   "source": [
    "**Oversampling**"
   ]
  },
  {
   "cell_type": "code",
   "execution_count": 70,
   "id": "33af848e",
   "metadata": {},
   "outputs": [],
   "source": [
    "x_ros = x_ros[scoring_feature.sort_values(by='Score', ascending=False).Features.head(30).to_list()]"
   ]
  },
  {
   "cell_type": "code",
   "execution_count": 71,
   "id": "7918d412",
   "metadata": {},
   "outputs": [],
   "source": [
    "# splitting tha data\n",
    "X_train_ros, X_test_ros, y_train_ros, y_test_ros = train_test_split(x_ros, y_ros, test_size=0.2, random_state=42)"
   ]
  },
  {
   "cell_type": "code",
   "execution_count": 72,
   "id": "1f18e0f4",
   "metadata": {},
   "outputs": [
    {
     "name": "stdout",
     "output_type": "stream",
     "text": [
      "(452297, 30) (113075, 30)\n",
      "(452297,) (113075,)\n"
     ]
    }
   ],
   "source": [
    "print(X_train_ros.shape, X_test_ros.shape)\n",
    "print(y_train_ros.shape, y_test_ros.shape)"
   ]
  },
  {
   "cell_type": "markdown",
   "id": "a4065da9",
   "metadata": {},
   "source": [
    "**Undersampling**"
   ]
  },
  {
   "cell_type": "code",
   "execution_count": 73,
   "id": "5decf5ed",
   "metadata": {},
   "outputs": [],
   "source": [
    "x_rus = x_rus[scoring_feature.sort_values(by='Score', ascending=False).Features.head(30).to_list()]"
   ]
  },
  {
   "cell_type": "code",
   "execution_count": 74,
   "id": "d0418d2a",
   "metadata": {},
   "outputs": [],
   "source": [
    "# splitting tha data\n",
    "X_train_rus, X_test_rus, y_train_rus, y_test_rus = train_test_split(x_rus, y_rus, test_size=0.2, random_state=42)"
   ]
  },
  {
   "cell_type": "code",
   "execution_count": 75,
   "id": "71962225",
   "metadata": {},
   "outputs": [
    {
     "name": "stdout",
     "output_type": "stream",
     "text": [
      "(39720, 30) (9930, 30)\n",
      "(39720,) (9930,)\n"
     ]
    }
   ],
   "source": [
    "print(X_train_rus.shape, X_test_rus.shape)\n",
    "print(y_train_rus.shape, y_test_rus.shape)"
   ]
  },
  {
   "cell_type": "markdown",
   "id": "c9a150a8",
   "metadata": {},
   "source": [
    "# Scaling Data"
   ]
  },
  {
   "cell_type": "markdown",
   "id": "f0a6593f",
   "metadata": {},
   "source": [
    "**Oversampling**"
   ]
  },
  {
   "cell_type": "code",
   "execution_count": 76,
   "id": "c2adb928",
   "metadata": {},
   "outputs": [],
   "source": [
    "scaler = StandardScaler()\n",
    "X_train_ros = scaler.fit_transform(X_train_ros)\n",
    "X_test_ros = scaler.transform(X_test_ros)"
   ]
  },
  {
   "cell_type": "markdown",
   "id": "80de4c89",
   "metadata": {},
   "source": [
    "**Undersampling**"
   ]
  },
  {
   "cell_type": "code",
   "execution_count": 77,
   "id": "b4caae67",
   "metadata": {},
   "outputs": [],
   "source": [
    "X_train_rus = scaler.fit_transform(X_train_rus)\n",
    "X_test_rus = scaler.transform(X_test_rus)"
   ]
  },
  {
   "cell_type": "markdown",
   "id": "8df6e205",
   "metadata": {},
   "source": [
    "# Build & Evaluation Model"
   ]
  },
  {
   "cell_type": "markdown",
   "id": "7ac48c03",
   "metadata": {},
   "source": [
    "Here are some machine learning algorithms implemented to determine the best prediction model:\n",
    "1. Logistic Regresion\n",
    "2. LightGBM\n",
    "3. Decision Tree"
   ]
  },
  {
   "cell_type": "code",
   "execution_count": 78,
   "id": "21e72dca",
   "metadata": {},
   "outputs": [],
   "source": [
    "model_eval = pd.DataFrame(columns=['Train_Accuracy','Test_Accuracy','ROC_Score'])"
   ]
  },
  {
   "cell_type": "markdown",
   "id": "4483ad8a",
   "metadata": {},
   "source": [
    "## 1. Logistic Regresion"
   ]
  },
  {
   "cell_type": "code",
   "execution_count": 79,
   "id": "73f4be8d",
   "metadata": {},
   "outputs": [],
   "source": [
    "log = LogisticRegression()"
   ]
  },
  {
   "cell_type": "markdown",
   "id": "a4394df0",
   "metadata": {},
   "source": [
    "**Oversampling**"
   ]
  },
  {
   "cell_type": "code",
   "execution_count": 80,
   "id": "9a748be2",
   "metadata": {
    "scrolled": true
   },
   "outputs": [
    {
     "data": {
      "text/plain": [
       "['log_model.pkl']"
      ]
     },
     "execution_count": 80,
     "metadata": {},
     "output_type": "execute_result"
    }
   ],
   "source": [
    "log.fit(X_train_ros, y_train_ros)\n",
    "joblib.dump(log, 'log_model.pkl')"
   ]
  },
  {
   "cell_type": "code",
   "execution_count": 81,
   "id": "19b667bd",
   "metadata": {},
   "outputs": [
    {
     "name": "stdout",
     "output_type": "stream",
     "text": [
      "              precision    recall  f1-score   support\n",
      "\n",
      "           0       0.62      0.61      0.61     56536\n",
      "           1       0.62      0.64      0.63     56539\n",
      "\n",
      "    accuracy                           0.62    113075\n",
      "   macro avg       0.62      0.62      0.62    113075\n",
      "weighted avg       0.62      0.62      0.62    113075\n",
      "\n"
     ]
    }
   ],
   "source": [
    "y_pred = log.predict(X_test_ros)\n",
    "y_predtr = log.predict(X_train_ros)\n",
    "\n",
    "print(classification_report(y_test_ros, y_pred))"
   ]
  },
  {
   "cell_type": "code",
   "execution_count": 82,
   "id": "7bed8aa3",
   "metadata": {},
   "outputs": [
    {
     "name": "stdout",
     "output_type": "stream",
     "text": [
      "ROC AUC Score: 0.620455\n"
     ]
    }
   ],
   "source": [
    "roc_auc_log = round(roc_auc_score(y_test_ros, y_pred),6)\n",
    "print('ROC AUC Score:', roc_auc_log)"
   ]
  },
  {
   "cell_type": "code",
   "execution_count": 83,
   "id": "a769b150",
   "metadata": {},
   "outputs": [
    {
     "data": {
      "text/plain": [
       "Text(50.722222222222214, 0.5, 'True Label')"
      ]
     },
     "execution_count": 83,
     "metadata": {},
     "output_type": "execute_result"
    },
    {
     "data": {
      "image/png": "[encoded data removed]",
      "text/plain": [
       "<Figure size 640x480 with 2 Axes>"
      ]
     },
     "metadata": {},
     "output_type": "display_data"
    }
   ],
   "source": [
    "sns.heatmap(confusion_matrix(y_test_ros, y_pred), annot=True, fmt='d', linewidth=.5, cmap= 'crest')\n",
    "plt.title('Confusion Matrix (Oversampling)\\nLogistic Regression Model', fontsize=15, pad=10)\n",
    "plt.xlabel('Predicted')\n",
    "plt.ylabel('True Label')"
   ]
  },
  {
   "cell_type": "code",
   "execution_count": 84,
   "id": "9669f6dc",
   "metadata": {},
   "outputs": [],
   "source": [
    "#input evaluation result into dataframe\n",
    "accuracy_tr = round(accuracy_score(y_train_ros, y_predtr)*100,2)\n",
    "accuracy = round(accuracy_score(y_test_ros, y_pred)*100,2)\n",
    "roc_score = round(roc_auc_log*100,2)\n",
    "#Appen to Dataframe Model Evaluation\n",
    "model_eval.loc['Log_Reg_oversampling'] = [accuracy_tr, accuracy, roc_score]"
   ]
  },
  {
   "cell_type": "markdown",
   "id": "57cda207",
   "metadata": {},
   "source": [
    "**Undersampling**"
   ]
  },
  {
   "cell_type": "code",
   "execution_count": 85,
   "id": "03d3ba35",
   "metadata": {},
   "outputs": [
    {
     "data": {
      "text/plain": [
       "['log_model_rus.pkl']"
      ]
     },
     "execution_count": 85,
     "metadata": {},
     "output_type": "execute_result"
    }
   ],
   "source": [
    "log.fit(X_train_rus, y_train_rus)\n",
    "joblib.dump(log, 'log_model_rus.pkl')"
   ]
  },
  {
   "cell_type": "code",
   "execution_count": 86,
   "id": "7afa907d",
   "metadata": {},
   "outputs": [
    {
     "name": "stdout",
     "output_type": "stream",
     "text": [
      "              precision    recall  f1-score   support\n",
      "\n",
      "           0       0.62      0.59      0.60      4953\n",
      "           1       0.61      0.63      0.62      4977\n",
      "\n",
      "    accuracy                           0.61      9930\n",
      "   macro avg       0.61      0.61      0.61      9930\n",
      "weighted avg       0.61      0.61      0.61      9930\n",
      "\n"
     ]
    }
   ],
   "source": [
    "y_pred = log.predict(X_test_rus)\n",
    "y_predtr = log.predict(X_train_rus)\n",
    "\n",
    "print(classification_report(y_test_rus, y_pred))"
   ]
  },
  {
   "cell_type": "code",
   "execution_count": 87,
   "id": "f96458e1",
   "metadata": {},
   "outputs": [
    {
     "name": "stdout",
     "output_type": "stream",
     "text": [
      "ROC AUC score: 0.613342\n"
     ]
    }
   ],
   "source": [
    "roc_auc_log_rus = round(roc_auc_score(y_test_rus, y_pred),6)\n",
    "print('ROC AUC score:', roc_auc_log_rus)"
   ]
  },
  {
   "cell_type": "code",
   "execution_count": 88,
   "id": "2d60f17a",
   "metadata": {},
   "outputs": [
    {
     "data": {
      "text/plain": [
       "Text(50.722222222222214, 0.5, 'True Label')"
      ]
     },
     "execution_count": 88,
     "metadata": {},
     "output_type": "execute_result"
    },
    {
     "data": {
      "image/png": "[encoded data removed]",
      "text/plain": [
       "<Figure size 640x480 with 2 Axes>"
      ]
     },
     "metadata": {},
     "output_type": "display_data"
    }
   ],
   "source": [
    "sns.heatmap(confusion_matrix(y_test_rus, y_pred), annot=True, fmt='d', linewidth=.5, cmap= 'crest')\n",
    "plt.title('Confusion Matrix (Undersmapling)\\nLogistic Regression Model', fontsize=15, pad=10)\n",
    "plt.xlabel('Predicted')\n",
    "plt.ylabel('True Label')"
   ]
  },
  {
   "cell_type": "code",
   "execution_count": 89,
   "id": "b022379c",
   "metadata": {},
   "outputs": [],
   "source": [
    "#input evaluation result into dataframe\n",
    "accuracy_tr = round(accuracy_score(y_train_rus, y_predtr)*100,2)\n",
    "accuracy = round(accuracy_score(y_test_rus, y_pred)*100,2)\n",
    "roc_score = round(roc_auc_log_rus*100,2)\n",
    "#Appen to Dataframe Model Evaluation\n",
    "model_eval.loc['Log_Reg_undersampling'] = [accuracy_tr, accuracy, roc_score]"
   ]
  },
  {
   "cell_type": "markdown",
   "id": "7539af55",
   "metadata": {},
   "source": [
    "## 2. LightGBM"
   ]
  },
  {
   "cell_type": "code",
   "execution_count": 90,
   "id": "f664ec2d",
   "metadata": {},
   "outputs": [],
   "source": [
    "lgbm = LGBMClassifier()"
   ]
  },
  {
   "cell_type": "markdown",
   "id": "d32a44c7",
   "metadata": {},
   "source": [
    "**Upsampling**"
   ]
  },
  {
   "cell_type": "code",
   "execution_count": 91,
   "id": "c8e02e8d",
   "metadata": {
    "scrolled": true
   },
   "outputs": [
    {
     "name": "stdout",
     "output_type": "stream",
     "text": [
      "[LightGBM] [Info] Number of positive: 226147, number of negative: 226150\n",
      "[LightGBM] [Info] Auto-choosing row-wise multi-threading, the overhead of testing was 0.092550 seconds.\n",
      "You can set `force_row_wise=true` to remove the overhead.\n",
      "And if memory is not enough, you can set `force_col_wise=true`.\n",
      "[LightGBM] [Info] Total Bins 7409\n",
      "[LightGBM] [Info] Number of data points in the train set: 452297, number of used features: 30\n",
      "[LightGBM] [Info] [binary:BoostFromScore]: pavg=0.499997 -> initscore=-0.000013\n",
      "[LightGBM] [Info] Start training from score -0.000013\n"
     ]
    },
    {
     "data": {
      "text/plain": [
       "['lgbm_model.pkl']"
      ]
     },
     "execution_count": 91,
     "metadata": {},
     "output_type": "execute_result"
    }
   ],
   "source": [
    "lgbm.fit(X_train_ros, y_train_ros)\n",
    "joblib.dump(lgbm, 'lgbm_model.pkl')"
   ]
  },
  {
   "cell_type": "code",
   "execution_count": 92,
   "id": "c9fb60c1",
   "metadata": {},
   "outputs": [
    {
     "name": "stdout",
     "output_type": "stream",
     "text": [
      "              precision    recall  f1-score   support\n",
      "\n",
      "           0       0.68      0.67      0.68     56536\n",
      "           1       0.68      0.68      0.68     56539\n",
      "\n",
      "    accuracy                           0.68    113075\n",
      "   macro avg       0.68      0.68      0.68    113075\n",
      "weighted avg       0.68      0.68      0.68    113075\n",
      "\n"
     ]
    }
   ],
   "source": [
    "y_pred = lgbm.predict(X_test_ros)\n",
    "y_predtr = lgbm.predict(X_train_ros)\n",
    "\n",
    "print(classification_report(y_test_ros, y_pred))"
   ]
  },
  {
   "cell_type": "code",
   "execution_count": 93,
   "id": "3ae18a4c",
   "metadata": {},
   "outputs": [
    {
     "name": "stdout",
     "output_type": "stream",
     "text": [
      "ROC AUC Score: 0.67686\n"
     ]
    }
   ],
   "source": [
    "roc_auc_lgbm = round(roc_auc_score(y_test_ros, y_pred),6)\n",
    "print('ROC AUC Score:', roc_auc_lgbm)"
   ]
  },
  {
   "cell_type": "code",
   "execution_count": 94,
   "id": "7b5f4d57",
   "metadata": {},
   "outputs": [
    {
     "data": {
      "text/plain": [
       "Text(50.722222222222214, 0.5, 'True Label')"
      ]
     },
     "execution_count": 94,
     "metadata": {},
     "output_type": "execute_result"
    },
    {
     "data": {
      "image/png": "[encoded data removed]",
      "text/plain": [
       "<Figure size 640x480 with 2 Axes>"
      ]
     },
     "metadata": {},
     "output_type": "display_data"
    }
   ],
   "source": [
    "sns.heatmap(confusion_matrix(y_test_ros, y_pred), annot=True, fmt='d', linewidth=.5, cmap= 'crest')\n",
    "plt.title('Confusion Matrix (Oversampling)\\nLight GBM Model', fontsize=15, pad=10)\n",
    "plt.xlabel('Predicted')\n",
    "plt.ylabel('True Label')"
   ]
  },
  {
   "cell_type": "code",
   "execution_count": 95,
   "id": "62481919",
   "metadata": {},
   "outputs": [],
   "source": [
    "#input evaluation result into dataframe\n",
    "accuracy_tr = round(accuracy_score(y_train_ros, y_predtr)*100,2)\n",
    "accuracy = round(accuracy_score(y_test_ros, y_pred)*100,2)\n",
    "roc_score = round(roc_auc_lgbm*100,2)\n",
    "#Appen to Dataframe Model Evaluation\n",
    "model_eval.loc['Light_GBM_oversampling'] = [accuracy_tr, accuracy, roc_score]"
   ]
  },
  {
   "cell_type": "markdown",
   "id": "fa478e5a",
   "metadata": {},
   "source": [
    "**Undersampling**"
   ]
  },
  {
   "cell_type": "code",
   "execution_count": 96,
   "id": "7db98ddd",
   "metadata": {
    "scrolled": true
   },
   "outputs": [
    {
     "name": "stdout",
     "output_type": "stream",
     "text": [
      "[LightGBM] [Info] Number of positive: 19848, number of negative: 19872\n",
      "[LightGBM] [Info] Auto-choosing col-wise multi-threading, the overhead of testing was 0.009513 seconds.\n",
      "You can set `force_col_wise=true` to remove the overhead.\n",
      "[LightGBM] [Info] Total Bins 7306\n",
      "[LightGBM] [Info] Number of data points in the train set: 39720, number of used features: 30\n",
      "[LightGBM] [Info] [binary:BoostFromScore]: pavg=0.499698 -> initscore=-0.001208\n",
      "[LightGBM] [Info] Start training from score -0.001208\n"
     ]
    },
    {
     "data": {
      "text/plain": [
       "['lgbm_model_rus.pkl']"
      ]
     },
     "execution_count": 96,
     "metadata": {},
     "output_type": "execute_result"
    }
   ],
   "source": [
    "lgbm.fit(X_train_rus, y_train_rus)\n",
    "joblib.dump(lgbm, 'lgbm_model_rus.pkl')"
   ]
  },
  {
   "cell_type": "code",
   "execution_count": 97,
   "id": "4d9f9c48",
   "metadata": {},
   "outputs": [
    {
     "name": "stdout",
     "output_type": "stream",
     "text": [
      "              precision    recall  f1-score   support\n",
      "\n",
      "           0       0.64      0.65      0.64      4953\n",
      "           1       0.65      0.64      0.64      4977\n",
      "\n",
      "    accuracy                           0.64      9930\n",
      "   macro avg       0.64      0.64      0.64      9930\n",
      "weighted avg       0.64      0.64      0.64      9930\n",
      "\n"
     ]
    }
   ],
   "source": [
    "y_pred = lgbm.predict(X_test_rus)\n",
    "y_predtr = lgbm.predict(X_train_rus)\n",
    "\n",
    "print(classification_report(y_test_rus, y_pred))"
   ]
  },
  {
   "cell_type": "code",
   "execution_count": 98,
   "id": "2656ca5e",
   "metadata": {},
   "outputs": [
    {
     "name": "stdout",
     "output_type": "stream",
     "text": [
      "ROC AUC Score: 0.643813\n"
     ]
    }
   ],
   "source": [
    "roc_auc_lgbm_rus = round(roc_auc_score(y_test_rus, y_pred),6)\n",
    "print('ROC AUC Score:', roc_auc_lgbm_rus)"
   ]
  },
  {
   "cell_type": "code",
   "execution_count": 99,
   "id": "53db513e",
   "metadata": {},
   "outputs": [
    {
     "data": {
      "text/plain": [
       "Text(50.722222222222214, 0.5, 'True Label')"
      ]
     },
     "execution_count": 99,
     "metadata": {},
     "output_type": "execute_result"
    },
    {
     "data": {
      "image/png": "[encoded data removed]",
      "text/plain": [
       "<Figure size 640x480 with 2 Axes>"
      ]
     },
     "metadata": {},
     "output_type": "display_data"
    }
   ],
   "source": [
    "sns.heatmap(confusion_matrix(y_test_rus, y_pred), annot=True, fmt='d', linewidth=.5, cmap= 'crest')\n",
    "plt.title('Confusion Matrix (Undersampling)\\nLight GBM Model', fontsize=15, pad=10)\n",
    "plt.xlabel('Predicted')\n",
    "plt.ylabel('True Label')"
   ]
  },
  {
   "cell_type": "code",
   "execution_count": 100,
   "id": "1796e54b",
   "metadata": {},
   "outputs": [],
   "source": [
    "#input evaluation result into dataframe\n",
    "accuracy_tr = round(accuracy_score(y_train_rus, y_predtr)*100,2)\n",
    "accuracy = round(accuracy_score(y_test_rus, y_pred)*100,2)\n",
    "roc_score = round(roc_auc_lgbm_rus*100,2)\n",
    "#Appen to Dataframe Model Evaluation\n",
    "model_eval.loc['Light_GBM_undersampling'] = [accuracy_tr, accuracy, roc_score]"
   ]
  },
  {
   "cell_type": "markdown",
   "id": "51b06d88",
   "metadata": {},
   "source": [
    "## 3. Decision Tree"
   ]
  },
  {
   "cell_type": "code",
   "execution_count": 101,
   "id": "adbf2cad",
   "metadata": {},
   "outputs": [],
   "source": [
    "dt = DecisionTreeClassifier()"
   ]
  },
  {
   "cell_type": "markdown",
   "id": "7d80058e",
   "metadata": {},
   "source": [
    "**Upsampling**"
   ]
  },
  {
   "cell_type": "code",
   "execution_count": 102,
   "id": "424a1f09",
   "metadata": {
    "scrolled": false
   },
   "outputs": [
    {
     "data": {
      "text/plain": [
       "['dt_model.pkl']"
      ]
     },
     "execution_count": 102,
     "metadata": {},
     "output_type": "execute_result"
    }
   ],
   "source": [
    "dt.fit(X_train_ros, y_train_ros)\n",
    "joblib.dump(dt, 'dt_model.pkl')"
   ]
  },
  {
   "cell_type": "code",
   "execution_count": 103,
   "id": "2cd25976",
   "metadata": {},
   "outputs": [
    {
     "name": "stdout",
     "output_type": "stream",
     "text": [
      "              precision    recall  f1-score   support\n",
      "\n",
      "           0       1.00      0.90      0.95     56536\n",
      "           1       0.91      1.00      0.95     56539\n",
      "\n",
      "    accuracy                           0.95    113075\n",
      "   macro avg       0.95      0.95      0.95    113075\n",
      "weighted avg       0.95      0.95      0.95    113075\n",
      "\n"
     ]
    }
   ],
   "source": [
    "y_pred = dt.predict(X_test_ros)\n",
    "y_predtr = dt.predict(X_train_ros)\n",
    "\n",
    "print(classification_report(y_test_ros, y_pred))"
   ]
  },
  {
   "cell_type": "code",
   "execution_count": 104,
   "id": "fa28f88a",
   "metadata": {},
   "outputs": [
    {
     "name": "stdout",
     "output_type": "stream",
     "text": [
      "ROC AUC Score: 0.950005\n"
     ]
    }
   ],
   "source": [
    "roc_auc_dt = round(roc_auc_score(y_test_ros, y_pred),6)\n",
    "print('ROC AUC Score:', roc_auc_dt)"
   ]
  },
  {
   "cell_type": "code",
   "execution_count": 106,
   "id": "bc868004",
   "metadata": {},
   "outputs": [
    {
     "data": {
      "text/plain": [
       "Text(50.722222222222214, 0.5, 'True Label')"
      ]
     },
     "execution_count": 106,
     "metadata": {},
     "output_type": "execute_result"
    },
    {
     "data": {
      "image/png": "[encoded data removed]",
      "text/plain": [
       "<Figure size 640x480 with 2 Axes>"
      ]
     },
     "metadata": {},
     "output_type": "display_data"
    }
   ],
   "source": [
    "sns.heatmap(confusion_matrix(y_test_ros, y_pred), annot=True, fmt='d', linewidth=.5, cmap= 'crest')\n",
    "plt.title('Confusion Matrix (Oversampling)\\nDecision Tree Model', fontsize=15, pad=10)\n",
    "plt.xlabel('Predicted')\n",
    "plt.ylabel('True Label')"
   ]
  },
  {
   "cell_type": "code",
   "execution_count": 107,
   "id": "703d0423",
   "metadata": {},
   "outputs": [],
   "source": [
    "#input evaluation result into dataframe\n",
    "accuracy_tr = round(accuracy_score(y_train_ros, y_predtr)*100,2)\n",
    "accuracy = round(accuracy_score(y_test_ros, y_pred)*100,2)\n",
    "roc_score = round(roc_auc_dt*100,2)\n",
    "#Appen to Dataframe Model Evaluation\n",
    "model_eval.loc['Decision_Tree_oversampling'] = [accuracy_tr, accuracy, roc_score]"
   ]
  },
  {
   "cell_type": "markdown",
   "id": "39e86cfb",
   "metadata": {},
   "source": [
    "**Undersampling**"
   ]
  },
  {
   "cell_type": "code",
   "execution_count": 108,
   "id": "ec1dfa45",
   "metadata": {
    "scrolled": true
   },
   "outputs": [
    {
     "data": {
      "text/plain": [
       "['dt_model_rus.pkl']"
      ]
     },
     "execution_count": 108,
     "metadata": {},
     "output_type": "execute_result"
    }
   ],
   "source": [
    "dt.fit(X_train_rus, y_train_rus)\n",
    "joblib.dump(dt, 'dt_model_rus.pkl')"
   ]
  },
  {
   "cell_type": "code",
   "execution_count": 109,
   "id": "c7b7445e",
   "metadata": {},
   "outputs": [
    {
     "name": "stdout",
     "output_type": "stream",
     "text": [
      "              precision    recall  f1-score   support\n",
      "\n",
      "           0       0.55      0.55      0.55      4953\n",
      "           1       0.55      0.55      0.55      4977\n",
      "\n",
      "    accuracy                           0.55      9930\n",
      "   macro avg       0.55      0.55      0.55      9930\n",
      "weighted avg       0.55      0.55      0.55      9930\n",
      "\n"
     ]
    }
   ],
   "source": [
    "y_pred = dt.predict(X_test_rus)\n",
    "y_predtr = dt.predict(X_train_rus)\n",
    "\n",
    "print(classification_report(y_test_rus, y_pred))"
   ]
  },
  {
   "cell_type": "code",
   "execution_count": 110,
   "id": "12347db7",
   "metadata": {},
   "outputs": [
    {
     "name": "stdout",
     "output_type": "stream",
     "text": [
      "ROC AUC Score: 0.550956\n"
     ]
    }
   ],
   "source": [
    "roc_auc_dt_rus = round(roc_auc_score(y_test_rus, y_pred),6)\n",
    "print('ROC AUC Score:', roc_auc_dt_rus)"
   ]
  },
  {
   "cell_type": "code",
   "execution_count": 111,
   "id": "2f5ff3a6",
   "metadata": {},
   "outputs": [
    {
     "data": {
      "text/plain": [
       "Text(50.722222222222214, 0.5, 'True Label')"
      ]
     },
     "execution_count": 111,
     "metadata": {},
     "output_type": "execute_result"
    },
    {
     "data": {
      "image/png": "[encoded data removed]",
      "text/plain": [
       "<Figure size 640x480 with 2 Axes>"
      ]
     },
     "metadata": {},
     "output_type": "display_data"
    }
   ],
   "source": [
    "sns.heatmap(confusion_matrix(y_test_rus, y_pred), annot=True, fmt='d', linewidth=.5, cmap= 'crest')\n",
    "plt.title('Confusion Matrix (Undersampling)\\nDecision Tree Model', fontsize=15, pad=10)\n",
    "plt.xlabel('Predicted')\n",
    "plt.ylabel('True Label')"
   ]
  },
  {
   "cell_type": "code",
   "execution_count": 112,
   "id": "2c3bf0b2",
   "metadata": {},
   "outputs": [],
   "source": [
    "#input evaluation result into dataframe\n",
    "accuracy_tr = round(accuracy_score(y_train_rus, y_predtr)*100,2)\n",
    "accuracy = round(accuracy_score(y_test_rus, y_pred)*100,2)\n",
    "roc_score = round(roc_auc_dt_rus*100,2)\n",
    "#Appen to Dataframe Model Evaluation\n",
    "model_eval.loc['Decision_Tree_undersampling'] = [accuracy_tr, accuracy, roc_score]"
   ]
  },
  {
   "cell_type": "code",
   "execution_count": 113,
   "id": "d8462e5d",
   "metadata": {},
   "outputs": [
    {
     "data": {
      "text/html": [
       "<style type=\"text/css\">\n",
       "#T_a2db0_row0_col0, #T_a2db0_row0_col1, #T_a2db0_row0_col2, #T_a2db0_row1_col0 {\n",
       "  background-color: #00441b;\n",
       "  color: #f1f1f1;\n",
       "}\n",
       "#T_a2db0_row1_col1, #T_a2db0_row1_col2, #T_a2db0_row4_col0, #T_a2db0_row5_col0 {\n",
       "  background-color: #f7fcf5;\n",
       "  color: #000000;\n",
       "}\n",
       "#T_a2db0_row2_col0 {\n",
       "  background-color: #c7e9c0;\n",
       "  color: #000000;\n",
       "}\n",
       "#T_a2db0_row2_col1, #T_a2db0_row2_col2 {\n",
       "  background-color: #cbebc5;\n",
       "  color: #000000;\n",
       "}\n",
       "#T_a2db0_row3_col0 {\n",
       "  background-color: #dbf1d5;\n",
       "  color: #000000;\n",
       "}\n",
       "#T_a2db0_row3_col1, #T_a2db0_row3_col2 {\n",
       "  background-color: #b4e1ad;\n",
       "  color: #000000;\n",
       "}\n",
       "#T_a2db0_row4_col1 {\n",
       "  background-color: #ddf2d8;\n",
       "  color: #000000;\n",
       "}\n",
       "#T_a2db0_row4_col2 {\n",
       "  background-color: #def2d9;\n",
       "  color: #000000;\n",
       "}\n",
       "#T_a2db0_row5_col1, #T_a2db0_row5_col2 {\n",
       "  background-color: #daf0d4;\n",
       "  color: #000000;\n",
       "}\n",
       "</style>\n",
       "<table id=\"T_a2db0\">\n",
       "  <thead>\n",
       "    <tr>\n",
       "      <th class=\"blank level0\" >&nbsp;</th>\n",
       "      <th id=\"T_a2db0_level0_col0\" class=\"col_heading level0 col0\" >Train_Accuracy</th>\n",
       "      <th id=\"T_a2db0_level0_col1\" class=\"col_heading level0 col1\" >Test_Accuracy</th>\n",
       "      <th id=\"T_a2db0_level0_col2\" class=\"col_heading level0 col2\" >ROC_Score</th>\n",
       "    </tr>\n",
       "  </thead>\n",
       "  <tbody>\n",
       "    <tr>\n",
       "      <th id=\"T_a2db0_level0_row0\" class=\"row_heading level0 row0\" >Decision_Tree_oversampling</th>\n",
       "      <td id=\"T_a2db0_row0_col0\" class=\"data row0 col0\" >100.00</td>\n",
       "      <td id=\"T_a2db0_row0_col1\" class=\"data row0 col1\" >95.00</td>\n",
       "      <td id=\"T_a2db0_row0_col2\" class=\"data row0 col2\" >95.00</td>\n",
       "    </tr>\n",
       "    <tr>\n",
       "      <th id=\"T_a2db0_level0_row1\" class=\"row_heading level0 row1\" >Decision_Tree_undersampling</th>\n",
       "      <td id=\"T_a2db0_row1_col0\" class=\"data row1 col0\" >100.00</td>\n",
       "      <td id=\"T_a2db0_row1_col1\" class=\"data row1 col1\" >55.10</td>\n",
       "      <td id=\"T_a2db0_row1_col2\" class=\"data row1 col2\" >55.10</td>\n",
       "    </tr>\n",
       "    <tr>\n",
       "      <th id=\"T_a2db0_level0_row2\" class=\"row_heading level0 row2\" >Light_GBM_undersampling</th>\n",
       "      <td id=\"T_a2db0_row2_col0\" class=\"data row2 col0\" >71.68</td>\n",
       "      <td id=\"T_a2db0_row2_col1\" class=\"data row2 col1\" >64.38</td>\n",
       "      <td id=\"T_a2db0_row2_col2\" class=\"data row2 col2\" >64.38</td>\n",
       "    </tr>\n",
       "    <tr>\n",
       "      <th id=\"T_a2db0_level0_row3\" class=\"row_heading level0 row3\" >Light_GBM_oversampling</th>\n",
       "      <td id=\"T_a2db0_row3_col0\" class=\"data row3 col0\" >68.69</td>\n",
       "      <td id=\"T_a2db0_row3_col1\" class=\"data row3 col1\" >67.69</td>\n",
       "      <td id=\"T_a2db0_row3_col2\" class=\"data row3 col2\" >67.69</td>\n",
       "    </tr>\n",
       "    <tr>\n",
       "      <th id=\"T_a2db0_level0_row4\" class=\"row_heading level0 row4\" >Log_Reg_undersampling</th>\n",
       "      <td id=\"T_a2db0_row4_col0\" class=\"data row4 col0\" >62.28</td>\n",
       "      <td id=\"T_a2db0_row4_col1\" class=\"data row4 col1\" >61.34</td>\n",
       "      <td id=\"T_a2db0_row4_col2\" class=\"data row4 col2\" >61.33</td>\n",
       "    </tr>\n",
       "    <tr>\n",
       "      <th id=\"T_a2db0_level0_row5\" class=\"row_heading level0 row5\" >Log_Reg_oversampling</th>\n",
       "      <td id=\"T_a2db0_row5_col0\" class=\"data row5 col0\" >62.20</td>\n",
       "      <td id=\"T_a2db0_row5_col1\" class=\"data row5 col1\" >62.05</td>\n",
       "      <td id=\"T_a2db0_row5_col2\" class=\"data row5 col2\" >62.05</td>\n",
       "    </tr>\n",
       "  </tbody>\n",
       "</table>\n"
      ],
      "text/plain": [
       "<pandas.io.formats.style.Styler at 0x1bb601e7c10>"
      ]
     },
     "execution_count": 113,
     "metadata": {},
     "output_type": "execute_result"
    }
   ],
   "source": [
    "model_eval.sort_values(by=['Train_Accuracy', 'Test_Accuracy'], ascending=False).style.background_gradient(cmap='Greens').format(\"{:.2f}\", subset=model_eval.columns)"
   ]
  },
  {
   "cell_type": "markdown",
   "id": "aac06a65",
   "metadata": {},
   "source": [
    "The prediction accuracy of the training data and test data on the Decision Tree model has a value difference that is not too far away, the ROC score is also good. So the Decision Tree model was chosen as a model to predict the ability to repay customers."
   ]
  },
  {
   "cell_type": "markdown",
   "id": "98e1ae60",
   "metadata": {},
   "source": [
    "# Prediction"
   ]
  },
  {
   "cell_type": "markdown",
   "id": "41b06fb7",
   "metadata": {},
   "source": [
    "## Load Dataset"
   ]
  },
  {
   "cell_type": "code",
   "execution_count": 114,
   "id": "ae93c3b9",
   "metadata": {
    "scrolled": true
   },
   "outputs": [
    {
     "name": "stdout",
     "output_type": "stream",
     "text": [
      "Memory usage of dataframe: 71.77 MB\n",
      "After optimization: 18.13 MB\n"
     ]
    },
    {
     "data": {
      "text/html": [
       "<div>\n",
       "<style scoped>\n",
       "    .dataframe tbody tr th:only-of-type {\n",
       "        vertical-align: middle;\n",
       "    }\n",
       "\n",
       "    .dataframe tbody tr th {\n",
       "        vertical-align: top;\n",
       "    }\n",
       "\n",
       "    .dataframe thead th {\n",
       "        text-align: right;\n",
       "    }\n",
       "</style>\n",
       "<table border=\"1\" class=\"dataframe\">\n",
       "  <thead>\n",
       "    <tr style=\"text-align: right;\">\n",
       "      <th></th>\n",
       "      <th>SK_ID_CURR</th>\n",
       "      <th>NAME_CONTRACT_TYPE</th>\n",
       "      <th>CODE_GENDER</th>\n",
       "      <th>FLAG_OWN_CAR</th>\n",
       "      <th>FLAG_OWN_REALTY</th>\n",
       "      <th>CNT_CHILDREN</th>\n",
       "      <th>AMT_INCOME_TOTAL</th>\n",
       "      <th>AMT_CREDIT</th>\n",
       "      <th>AMT_ANNUITY</th>\n",
       "      <th>AMT_GOODS_PRICE</th>\n",
       "      <th>...</th>\n",
       "      <th>PREV_POS_NAME_CONTRACT_STATUS</th>\n",
       "      <th>PREV_POS_SK_DPD</th>\n",
       "      <th>PREV_POS_SK_DPD_DEF</th>\n",
       "      <th>PREV_INST_SK_ID_CURR</th>\n",
       "      <th>PREV_INST_NUM_INSTALMENT_VERSION</th>\n",
       "      <th>PREV_INST_NUM_INSTALMENT_NUMBER</th>\n",
       "      <th>PREV_INST_DAYS_INSTALMENT</th>\n",
       "      <th>PREV_INST_DAYS_ENTRY_PAYMENT</th>\n",
       "      <th>PREV_INST_AMT_INSTALMENT</th>\n",
       "      <th>PREV_INST_AMT_PAYMENT</th>\n",
       "    </tr>\n",
       "  </thead>\n",
       "  <tbody>\n",
       "    <tr>\n",
       "      <th>0</th>\n",
       "      <td>100001</td>\n",
       "      <td>0</td>\n",
       "      <td>0</td>\n",
       "      <td>0</td>\n",
       "      <td>1</td>\n",
       "      <td>0</td>\n",
       "      <td>135000.0</td>\n",
       "      <td>568800.0</td>\n",
       "      <td>20560.5</td>\n",
       "      <td>450000.0</td>\n",
       "      <td>...</td>\n",
       "      <td>0.799805</td>\n",
       "      <td>0.000000</td>\n",
       "      <td>0.0</td>\n",
       "      <td>100001.0</td>\n",
       "      <td>1.250000</td>\n",
       "      <td>2.500000</td>\n",
       "      <td>-1664.0</td>\n",
       "      <td>-1680.0</td>\n",
       "      <td>7312.725098</td>\n",
       "      <td>7312.725098</td>\n",
       "    </tr>\n",
       "    <tr>\n",
       "      <th>1</th>\n",
       "      <td>100005</td>\n",
       "      <td>0</td>\n",
       "      <td>1</td>\n",
       "      <td>0</td>\n",
       "      <td>1</td>\n",
       "      <td>0</td>\n",
       "      <td>99000.0</td>\n",
       "      <td>222768.0</td>\n",
       "      <td>17370.0</td>\n",
       "      <td>180000.0</td>\n",
       "      <td>...</td>\n",
       "      <td>1.000000</td>\n",
       "      <td>0.000000</td>\n",
       "      <td>0.0</td>\n",
       "      <td>100005.0</td>\n",
       "      <td>1.111328</td>\n",
       "      <td>5.000000</td>\n",
       "      <td>-586.0</td>\n",
       "      <td>-609.5</td>\n",
       "      <td>6240.205078</td>\n",
       "      <td>6240.205078</td>\n",
       "    </tr>\n",
       "    <tr>\n",
       "      <th>2</th>\n",
       "      <td>100013</td>\n",
       "      <td>0</td>\n",
       "      <td>1</td>\n",
       "      <td>1</td>\n",
       "      <td>1</td>\n",
       "      <td>0</td>\n",
       "      <td>202500.0</td>\n",
       "      <td>663264.0</td>\n",
       "      <td>69777.0</td>\n",
       "      <td>630000.0</td>\n",
       "      <td>...</td>\n",
       "      <td>0.597656</td>\n",
       "      <td>1.619141</td>\n",
       "      <td>0.0</td>\n",
       "      <td>100013.0</td>\n",
       "      <td>1.050781</td>\n",
       "      <td>6.027344</td>\n",
       "      <td>-855.0</td>\n",
       "      <td>-867.5</td>\n",
       "      <td>16349.078125</td>\n",
       "      <td>13702.793945</td>\n",
       "    </tr>\n",
       "    <tr>\n",
       "      <th>3</th>\n",
       "      <td>100028</td>\n",
       "      <td>0</td>\n",
       "      <td>0</td>\n",
       "      <td>0</td>\n",
       "      <td>1</td>\n",
       "      <td>2</td>\n",
       "      <td>315000.0</td>\n",
       "      <td>1575000.0</td>\n",
       "      <td>49018.5</td>\n",
       "      <td>1575000.0</td>\n",
       "      <td>...</td>\n",
       "      <td>0.369141</td>\n",
       "      <td>0.000000</td>\n",
       "      <td>0.0</td>\n",
       "      <td>100028.0</td>\n",
       "      <td>1.039062</td>\n",
       "      <td>17.593750</td>\n",
       "      <td>-945.0</td>\n",
       "      <td>-950.0</td>\n",
       "      <td>7836.897949</td>\n",
       "      <td>7557.738281</td>\n",
       "    </tr>\n",
       "    <tr>\n",
       "      <th>4</th>\n",
       "      <td>100038</td>\n",
       "      <td>0</td>\n",
       "      <td>1</td>\n",
       "      <td>1</td>\n",
       "      <td>0</td>\n",
       "      <td>1</td>\n",
       "      <td>180000.0</td>\n",
       "      <td>625500.0</td>\n",
       "      <td>32067.0</td>\n",
       "      <td>625500.0</td>\n",
       "      <td>...</td>\n",
       "      <td>0.307617</td>\n",
       "      <td>0.000000</td>\n",
       "      <td>0.0</td>\n",
       "      <td>100038.0</td>\n",
       "      <td>1.000000</td>\n",
       "      <td>6.500000</td>\n",
       "      <td>-622.0</td>\n",
       "      <td>-634.0</td>\n",
       "      <td>11100.336914</td>\n",
       "      <td>11100.336914</td>\n",
       "    </tr>\n",
       "  </tbody>\n",
       "</table>\n",
       "<p>5 rows × 193 columns</p>\n",
       "</div>"
      ],
      "text/plain": [
       "   SK_ID_CURR  NAME_CONTRACT_TYPE  CODE_GENDER  FLAG_OWN_CAR  FLAG_OWN_REALTY  \\\n",
       "0      100001                   0            0             0                1   \n",
       "1      100005                   0            1             0                1   \n",
       "2      100013                   0            1             1                1   \n",
       "3      100028                   0            0             0                1   \n",
       "4      100038                   0            1             1                0   \n",
       "\n",
       "   CNT_CHILDREN  AMT_INCOME_TOTAL  AMT_CREDIT  AMT_ANNUITY  AMT_GOODS_PRICE  \\\n",
       "0             0          135000.0    568800.0      20560.5         450000.0   \n",
       "1             0           99000.0    222768.0      17370.0         180000.0   \n",
       "2             0          202500.0    663264.0      69777.0         630000.0   \n",
       "3             2          315000.0   1575000.0      49018.5        1575000.0   \n",
       "4             1          180000.0    625500.0      32067.0         625500.0   \n",
       "\n",
       "   ...  PREV_POS_NAME_CONTRACT_STATUS  PREV_POS_SK_DPD  PREV_POS_SK_DPD_DEF  \\\n",
       "0  ...                       0.799805         0.000000                  0.0   \n",
       "1  ...                       1.000000         0.000000                  0.0   \n",
       "2  ...                       0.597656         1.619141                  0.0   \n",
       "3  ...                       0.369141         0.000000                  0.0   \n",
       "4  ...                       0.307617         0.000000                  0.0   \n",
       "\n",
       "   PREV_INST_SK_ID_CURR  PREV_INST_NUM_INSTALMENT_VERSION  \\\n",
       "0              100001.0                          1.250000   \n",
       "1              100005.0                          1.111328   \n",
       "2              100013.0                          1.050781   \n",
       "3              100028.0                          1.039062   \n",
       "4              100038.0                          1.000000   \n",
       "\n",
       "   PREV_INST_NUM_INSTALMENT_NUMBER  PREV_INST_DAYS_INSTALMENT  \\\n",
       "0                         2.500000                    -1664.0   \n",
       "1                         5.000000                     -586.0   \n",
       "2                         6.027344                     -855.0   \n",
       "3                        17.593750                     -945.0   \n",
       "4                         6.500000                     -622.0   \n",
       "\n",
       "   PREV_INST_DAYS_ENTRY_PAYMENT  PREV_INST_AMT_INSTALMENT  \\\n",
       "0                       -1680.0               7312.725098   \n",
       "1                        -609.5               6240.205078   \n",
       "2                        -867.5              16349.078125   \n",
       "3                        -950.0               7836.897949   \n",
       "4                        -634.0              11100.336914   \n",
       "\n",
       "   PREV_INST_AMT_PAYMENT  \n",
       "0            7312.725098  \n",
       "1            6240.205078  \n",
       "2           13702.793945  \n",
       "3            7557.738281  \n",
       "4           11100.336914  \n",
       "\n",
       "[5 rows x 193 columns]"
      ]
     },
     "execution_count": 114,
     "metadata": {},
     "output_type": "execute_result"
    }
   ],
   "source": [
    "data_test = import_df('C:\\\\Users\\\\Administrator\\\\Documents\\\\Rakamin\\\\final_test.csv')\n",
    "data_test.head()"
   ]
  },
  {
   "cell_type": "code",
   "execution_count": 115,
   "id": "0291145a",
   "metadata": {
    "scrolled": true
   },
   "outputs": [
    {
     "data": {
      "text/plain": [
       "(48744, 193)"
      ]
     },
     "execution_count": 115,
     "metadata": {},
     "output_type": "execute_result"
    }
   ],
   "source": [
    "data_test.shape"
   ]
  },
  {
   "cell_type": "code",
   "execution_count": 116,
   "id": "ef1fdf2e",
   "metadata": {},
   "outputs": [
    {
     "data": {
      "text/html": [
       "<div>\n",
       "<style scoped>\n",
       "    .dataframe tbody tr th:only-of-type {\n",
       "        vertical-align: middle;\n",
       "    }\n",
       "\n",
       "    .dataframe tbody tr th {\n",
       "        vertical-align: top;\n",
       "    }\n",
       "\n",
       "    .dataframe thead th {\n",
       "        text-align: right;\n",
       "    }\n",
       "</style>\n",
       "<table border=\"1\" class=\"dataframe\">\n",
       "  <thead>\n",
       "    <tr style=\"text-align: right;\">\n",
       "      <th></th>\n",
       "      <th>SK_ID_CURR</th>\n",
       "      <th>NAME_CONTRACT_TYPE</th>\n",
       "      <th>CODE_GENDER</th>\n",
       "      <th>FLAG_OWN_CAR</th>\n",
       "      <th>FLAG_OWN_REALTY</th>\n",
       "      <th>CNT_CHILDREN</th>\n",
       "      <th>AMT_INCOME_TOTAL</th>\n",
       "      <th>AMT_CREDIT</th>\n",
       "      <th>AMT_ANNUITY</th>\n",
       "      <th>AMT_GOODS_PRICE</th>\n",
       "      <th>...</th>\n",
       "      <th>PREV_POS_NAME_CONTRACT_STATUS</th>\n",
       "      <th>PREV_POS_SK_DPD</th>\n",
       "      <th>PREV_POS_SK_DPD_DEF</th>\n",
       "      <th>PREV_INST_SK_ID_CURR</th>\n",
       "      <th>PREV_INST_NUM_INSTALMENT_VERSION</th>\n",
       "      <th>PREV_INST_NUM_INSTALMENT_NUMBER</th>\n",
       "      <th>PREV_INST_DAYS_INSTALMENT</th>\n",
       "      <th>PREV_INST_DAYS_ENTRY_PAYMENT</th>\n",
       "      <th>PREV_INST_AMT_INSTALMENT</th>\n",
       "      <th>PREV_INST_AMT_PAYMENT</th>\n",
       "    </tr>\n",
       "  </thead>\n",
       "  <tbody>\n",
       "    <tr>\n",
       "      <th>0</th>\n",
       "      <td>100001</td>\n",
       "      <td>0</td>\n",
       "      <td>0</td>\n",
       "      <td>0</td>\n",
       "      <td>1</td>\n",
       "      <td>0</td>\n",
       "      <td>135000.0</td>\n",
       "      <td>568800.0</td>\n",
       "      <td>20560.5</td>\n",
       "      <td>450000.0</td>\n",
       "      <td>...</td>\n",
       "      <td>0.799805</td>\n",
       "      <td>0.000000</td>\n",
       "      <td>0.0</td>\n",
       "      <td>100001.0</td>\n",
       "      <td>1.250000</td>\n",
       "      <td>2.500000</td>\n",
       "      <td>-1664.0</td>\n",
       "      <td>-1680.0</td>\n",
       "      <td>7312.725098</td>\n",
       "      <td>7312.725098</td>\n",
       "    </tr>\n",
       "    <tr>\n",
       "      <th>1</th>\n",
       "      <td>100005</td>\n",
       "      <td>0</td>\n",
       "      <td>1</td>\n",
       "      <td>0</td>\n",
       "      <td>1</td>\n",
       "      <td>0</td>\n",
       "      <td>99000.0</td>\n",
       "      <td>222768.0</td>\n",
       "      <td>17370.0</td>\n",
       "      <td>180000.0</td>\n",
       "      <td>...</td>\n",
       "      <td>1.000000</td>\n",
       "      <td>0.000000</td>\n",
       "      <td>0.0</td>\n",
       "      <td>100005.0</td>\n",
       "      <td>1.111328</td>\n",
       "      <td>5.000000</td>\n",
       "      <td>-586.0</td>\n",
       "      <td>-609.5</td>\n",
       "      <td>6240.205078</td>\n",
       "      <td>6240.205078</td>\n",
       "    </tr>\n",
       "    <tr>\n",
       "      <th>2</th>\n",
       "      <td>100013</td>\n",
       "      <td>0</td>\n",
       "      <td>1</td>\n",
       "      <td>1</td>\n",
       "      <td>1</td>\n",
       "      <td>0</td>\n",
       "      <td>202500.0</td>\n",
       "      <td>663264.0</td>\n",
       "      <td>69777.0</td>\n",
       "      <td>630000.0</td>\n",
       "      <td>...</td>\n",
       "      <td>0.597656</td>\n",
       "      <td>1.619141</td>\n",
       "      <td>0.0</td>\n",
       "      <td>100013.0</td>\n",
       "      <td>1.050781</td>\n",
       "      <td>6.027344</td>\n",
       "      <td>-855.0</td>\n",
       "      <td>-867.5</td>\n",
       "      <td>16349.078125</td>\n",
       "      <td>13702.793945</td>\n",
       "    </tr>\n",
       "    <tr>\n",
       "      <th>3</th>\n",
       "      <td>100028</td>\n",
       "      <td>0</td>\n",
       "      <td>0</td>\n",
       "      <td>0</td>\n",
       "      <td>1</td>\n",
       "      <td>2</td>\n",
       "      <td>315000.0</td>\n",
       "      <td>1575000.0</td>\n",
       "      <td>49018.5</td>\n",
       "      <td>1575000.0</td>\n",
       "      <td>...</td>\n",
       "      <td>0.369141</td>\n",
       "      <td>0.000000</td>\n",
       "      <td>0.0</td>\n",
       "      <td>100028.0</td>\n",
       "      <td>1.039062</td>\n",
       "      <td>17.593750</td>\n",
       "      <td>-945.0</td>\n",
       "      <td>-950.0</td>\n",
       "      <td>7836.897949</td>\n",
       "      <td>7557.738281</td>\n",
       "    </tr>\n",
       "    <tr>\n",
       "      <th>4</th>\n",
       "      <td>100038</td>\n",
       "      <td>0</td>\n",
       "      <td>1</td>\n",
       "      <td>1</td>\n",
       "      <td>0</td>\n",
       "      <td>1</td>\n",
       "      <td>180000.0</td>\n",
       "      <td>625500.0</td>\n",
       "      <td>32067.0</td>\n",
       "      <td>625500.0</td>\n",
       "      <td>...</td>\n",
       "      <td>0.307617</td>\n",
       "      <td>0.000000</td>\n",
       "      <td>0.0</td>\n",
       "      <td>100038.0</td>\n",
       "      <td>1.000000</td>\n",
       "      <td>6.500000</td>\n",
       "      <td>-622.0</td>\n",
       "      <td>-634.0</td>\n",
       "      <td>11100.336914</td>\n",
       "      <td>11100.336914</td>\n",
       "    </tr>\n",
       "  </tbody>\n",
       "</table>\n",
       "<p>5 rows × 193 columns</p>\n",
       "</div>"
      ],
      "text/plain": [
       "   SK_ID_CURR  NAME_CONTRACT_TYPE  CODE_GENDER  FLAG_OWN_CAR  FLAG_OWN_REALTY  \\\n",
       "0      100001                   0            0             0                1   \n",
       "1      100005                   0            1             0                1   \n",
       "2      100013                   0            1             1                1   \n",
       "3      100028                   0            0             0                1   \n",
       "4      100038                   0            1             1                0   \n",
       "\n",
       "   CNT_CHILDREN  AMT_INCOME_TOTAL  AMT_CREDIT  AMT_ANNUITY  AMT_GOODS_PRICE  \\\n",
       "0             0          135000.0    568800.0      20560.5         450000.0   \n",
       "1             0           99000.0    222768.0      17370.0         180000.0   \n",
       "2             0          202500.0    663264.0      69777.0         630000.0   \n",
       "3             2          315000.0   1575000.0      49018.5        1575000.0   \n",
       "4             1          180000.0    625500.0      32067.0         625500.0   \n",
       "\n",
       "   ...  PREV_POS_NAME_CONTRACT_STATUS  PREV_POS_SK_DPD  PREV_POS_SK_DPD_DEF  \\\n",
       "0  ...                       0.799805         0.000000                  0.0   \n",
       "1  ...                       1.000000         0.000000                  0.0   \n",
       "2  ...                       0.597656         1.619141                  0.0   \n",
       "3  ...                       0.369141         0.000000                  0.0   \n",
       "4  ...                       0.307617         0.000000                  0.0   \n",
       "\n",
       "   PREV_INST_SK_ID_CURR  PREV_INST_NUM_INSTALMENT_VERSION  \\\n",
       "0              100001.0                          1.250000   \n",
       "1              100005.0                          1.111328   \n",
       "2              100013.0                          1.050781   \n",
       "3              100028.0                          1.039062   \n",
       "4              100038.0                          1.000000   \n",
       "\n",
       "   PREV_INST_NUM_INSTALMENT_NUMBER  PREV_INST_DAYS_INSTALMENT  \\\n",
       "0                         2.500000                    -1664.0   \n",
       "1                         5.000000                     -586.0   \n",
       "2                         6.027344                     -855.0   \n",
       "3                        17.593750                     -945.0   \n",
       "4                         6.500000                     -622.0   \n",
       "\n",
       "   PREV_INST_DAYS_ENTRY_PAYMENT  PREV_INST_AMT_INSTALMENT  \\\n",
       "0                       -1680.0               7312.725098   \n",
       "1                        -609.5               6240.205078   \n",
       "2                        -867.5              16349.078125   \n",
       "3                        -950.0               7836.897949   \n",
       "4                        -634.0              11100.336914   \n",
       "\n",
       "   PREV_INST_AMT_PAYMENT  \n",
       "0            7312.725098  \n",
       "1            6240.205078  \n",
       "2           13702.793945  \n",
       "3            7557.738281  \n",
       "4           11100.336914  \n",
       "\n",
       "[5 rows x 193 columns]"
      ]
     },
     "execution_count": 116,
     "metadata": {},
     "output_type": "execute_result"
    }
   ],
   "source": [
    "data_test.head()"
   ]
  },
  {
   "cell_type": "markdown",
   "id": "9bdd88c7",
   "metadata": {},
   "source": [
    "## Data Preprocessing"
   ]
  },
  {
   "cell_type": "code",
   "execution_count": 117,
   "id": "ac1393cd",
   "metadata": {},
   "outputs": [
    {
     "name": "stdout",
     "output_type": "stream",
     "text": [
      "\n",
      "Duplicated row:  0\n"
     ]
    }
   ],
   "source": [
    "print(\"\\nDuplicated row: \", data_test.duplicated().sum())"
   ]
  },
  {
   "cell_type": "code",
   "execution_count": 118,
   "id": "bdcf4955",
   "metadata": {},
   "outputs": [],
   "source": [
    "## function for looking precentage of missing values in df\n",
    "def miss_percent(df):\n",
    "    result = (df.isnull().sum().sum() / df.size) * 100\n",
    "    return result\n",
    "\n",
    "#function for looking precentage of missing values in columns\n",
    "def in_col(df):\n",
    "    percent = df.isnull().sum() / len(df)\n",
    "    result_df = pd.DataFrame({'column_index': percent.index, 'percentage': percent.values})\n",
    "    result_df = result_df.sort_values(by='percentage', ascending=False)\n",
    "\n",
    "    return result_df"
   ]
  },
  {
   "cell_type": "code",
   "execution_count": 119,
   "id": "01f87b6b",
   "metadata": {},
   "outputs": [
    {
     "data": {
      "text/plain": [
       "0.0"
      ]
     },
     "execution_count": 119,
     "metadata": {},
     "output_type": "execute_result"
    }
   ],
   "source": [
    "miss_percent(data_test)"
   ]
  },
  {
   "cell_type": "code",
   "execution_count": 120,
   "id": "7888263c",
   "metadata": {},
   "outputs": [
    {
     "data": {
      "text/html": [
       "<div>\n",
       "<style scoped>\n",
       "    .dataframe tbody tr th:only-of-type {\n",
       "        vertical-align: middle;\n",
       "    }\n",
       "\n",
       "    .dataframe tbody tr th {\n",
       "        vertical-align: top;\n",
       "    }\n",
       "\n",
       "    .dataframe thead th {\n",
       "        text-align: right;\n",
       "    }\n",
       "</style>\n",
       "<table border=\"1\" class=\"dataframe\">\n",
       "  <thead>\n",
       "    <tr style=\"text-align: right;\">\n",
       "      <th></th>\n",
       "      <th>column_index</th>\n",
       "      <th>percentage</th>\n",
       "    </tr>\n",
       "  </thead>\n",
       "  <tbody>\n",
       "    <tr>\n",
       "      <th>0</th>\n",
       "      <td>SK_ID_CURR</td>\n",
       "      <td>0.0</td>\n",
       "    </tr>\n",
       "    <tr>\n",
       "      <th>97</th>\n",
       "      <td>FLAG_DOCUMENT_4</td>\n",
       "      <td>0.0</td>\n",
       "    </tr>\n",
       "    <tr>\n",
       "      <th>123</th>\n",
       "      <td>BURE_CREDIT_CURRENCY</td>\n",
       "      <td>0.0</td>\n",
       "    </tr>\n",
       "    <tr>\n",
       "      <th>124</th>\n",
       "      <td>BURE_DAYS_CREDIT</td>\n",
       "      <td>0.0</td>\n",
       "    </tr>\n",
       "    <tr>\n",
       "      <th>125</th>\n",
       "      <td>BURE_CREDIT_DAY_OVERDUE</td>\n",
       "      <td>0.0</td>\n",
       "    </tr>\n",
       "    <tr>\n",
       "      <th>...</th>\n",
       "      <td>...</td>\n",
       "      <td>...</td>\n",
       "    </tr>\n",
       "    <tr>\n",
       "      <th>67</th>\n",
       "      <td>LIVINGAPARTMENTS_MODE</td>\n",
       "      <td>0.0</td>\n",
       "    </tr>\n",
       "    <tr>\n",
       "      <th>68</th>\n",
       "      <td>LIVINGAREA_MODE</td>\n",
       "      <td>0.0</td>\n",
       "    </tr>\n",
       "    <tr>\n",
       "      <th>69</th>\n",
       "      <td>NONLIVINGAPARTMENTS_MODE</td>\n",
       "      <td>0.0</td>\n",
       "    </tr>\n",
       "    <tr>\n",
       "      <th>70</th>\n",
       "      <td>NONLIVINGAREA_MODE</td>\n",
       "      <td>0.0</td>\n",
       "    </tr>\n",
       "    <tr>\n",
       "      <th>192</th>\n",
       "      <td>PREV_INST_AMT_PAYMENT</td>\n",
       "      <td>0.0</td>\n",
       "    </tr>\n",
       "  </tbody>\n",
       "</table>\n",
       "<p>193 rows × 2 columns</p>\n",
       "</div>"
      ],
      "text/plain": [
       "                 column_index  percentage\n",
       "0                  SK_ID_CURR         0.0\n",
       "97            FLAG_DOCUMENT_4         0.0\n",
       "123      BURE_CREDIT_CURRENCY         0.0\n",
       "124          BURE_DAYS_CREDIT         0.0\n",
       "125   BURE_CREDIT_DAY_OVERDUE         0.0\n",
       "..                        ...         ...\n",
       "67      LIVINGAPARTMENTS_MODE         0.0\n",
       "68            LIVINGAREA_MODE         0.0\n",
       "69   NONLIVINGAPARTMENTS_MODE         0.0\n",
       "70         NONLIVINGAREA_MODE         0.0\n",
       "192     PREV_INST_AMT_PAYMENT         0.0\n",
       "\n",
       "[193 rows x 2 columns]"
      ]
     },
     "execution_count": 120,
     "metadata": {},
     "output_type": "execute_result"
    }
   ],
   "source": [
    "in_col(data_test)"
   ]
  },
  {
   "cell_type": "code",
   "execution_count": 155,
   "id": "5f96672f",
   "metadata": {},
   "outputs": [],
   "source": [
    "#convert negatif values to positif values\n",
    "for col in data_test.columns[data_test.lt(0).any()]:\n",
    "    data_test[col] = data_test[col].abs()"
   ]
  },
  {
   "cell_type": "code",
   "execution_count": 156,
   "id": "d67d21e6",
   "metadata": {},
   "outputs": [
    {
     "data": {
      "text/html": [
       "<div>\n",
       "<style scoped>\n",
       "    .dataframe tbody tr th:only-of-type {\n",
       "        vertical-align: middle;\n",
       "    }\n",
       "\n",
       "    .dataframe tbody tr th {\n",
       "        vertical-align: top;\n",
       "    }\n",
       "\n",
       "    .dataframe thead th {\n",
       "        text-align: right;\n",
       "    }\n",
       "</style>\n",
       "<table border=\"1\" class=\"dataframe\">\n",
       "  <thead>\n",
       "    <tr style=\"text-align: right;\">\n",
       "      <th></th>\n",
       "      <th>BURE_AMT_CREDIT_SUM</th>\n",
       "      <th>DAYS_EMPLOYED</th>\n",
       "      <th>AMT_GOODS_PRICE</th>\n",
       "      <th>AMT_CREDIT</th>\n",
       "      <th>PREV_DAYS_LAST_DUE_1ST_VERSION</th>\n",
       "      <th>PREV_DAYS_LAST_DUE</th>\n",
       "      <th>PREV_DAYS_TERMINATION</th>\n",
       "      <th>PREV_AMT_APPLICATION</th>\n",
       "      <th>BURE_AMT_CREDIT_MAX_OVERDUE</th>\n",
       "      <th>PREV_AMT_GOODS_PRICE</th>\n",
       "      <th>...</th>\n",
       "      <th>PREV_INST_AMT_INSTALMENT</th>\n",
       "      <th>BURE_SK_ID_BUREAU</th>\n",
       "      <th>AMT_INCOME_TOTAL</th>\n",
       "      <th>DAYS_REGISTRATION</th>\n",
       "      <th>BURE_DAYS_CREDIT_ENDDATE</th>\n",
       "      <th>DAYS_LAST_PHONE_CHANGE</th>\n",
       "      <th>DAYS_ID_PUBLISH</th>\n",
       "      <th>BURE_DAYS_CREDIT</th>\n",
       "      <th>PREV_SELLERPLACE_AREA</th>\n",
       "      <th>BURE_DAYS_CREDIT_UPDATE</th>\n",
       "    </tr>\n",
       "  </thead>\n",
       "  <tbody>\n",
       "    <tr>\n",
       "      <th>0</th>\n",
       "      <td>207623.578125</td>\n",
       "      <td>2329</td>\n",
       "      <td>450000.0</td>\n",
       "      <td>568800.0</td>\n",
       "      <td>1499.000000</td>\n",
       "      <td>1619.000000</td>\n",
       "      <td>1612.000000</td>\n",
       "      <td>24835.50</td>\n",
       "      <td>0.0</td>\n",
       "      <td>24835.5</td>\n",
       "      <td>...</td>\n",
       "      <td>7312.725098</td>\n",
       "      <td>5896633.0</td>\n",
       "      <td>135000.0</td>\n",
       "      <td>5168.0</td>\n",
       "      <td>82.4375</td>\n",
       "      <td>1740.0</td>\n",
       "      <td>812</td>\n",
       "      <td>735.000</td>\n",
       "      <td>23.000000</td>\n",
       "      <td>93.12500</td>\n",
       "    </tr>\n",
       "    <tr>\n",
       "      <th>1</th>\n",
       "      <td>219042.000000</td>\n",
       "      <td>4469</td>\n",
       "      <td>180000.0</td>\n",
       "      <td>222768.0</td>\n",
       "      <td>376.000000</td>\n",
       "      <td>466.000000</td>\n",
       "      <td>460.000000</td>\n",
       "      <td>22308.75</td>\n",
       "      <td>0.0</td>\n",
       "      <td>44617.5</td>\n",
       "      <td>...</td>\n",
       "      <td>6240.205078</td>\n",
       "      <td>6735201.0</td>\n",
       "      <td>99000.0</td>\n",
       "      <td>9120.0</td>\n",
       "      <td>439.2500</td>\n",
       "      <td>0.0</td>\n",
       "      <td>1623</td>\n",
       "      <td>190.625</td>\n",
       "      <td>18.000000</td>\n",
       "      <td>54.34375</td>\n",
       "    </tr>\n",
       "    <tr>\n",
       "      <th>2</th>\n",
       "      <td>518070.000000</td>\n",
       "      <td>4458</td>\n",
       "      <td>630000.0</td>\n",
       "      <td>663264.0</td>\n",
       "      <td>515.666687</td>\n",
       "      <td>715.666687</td>\n",
       "      <td>710.333313</td>\n",
       "      <td>130871.25</td>\n",
       "      <td>19305.0</td>\n",
       "      <td>174495.0</td>\n",
       "      <td>...</td>\n",
       "      <td>16349.078125</td>\n",
       "      <td>5922081.0</td>\n",
       "      <td>202500.0</td>\n",
       "      <td>2176.0</td>\n",
       "      <td>1068.0000</td>\n",
       "      <td>856.0</td>\n",
       "      <td>3503</td>\n",
       "      <td>1738.000</td>\n",
       "      <td>82.000000</td>\n",
       "      <td>775.50000</td>\n",
       "    </tr>\n",
       "    <tr>\n",
       "      <th>3</th>\n",
       "      <td>126739.593750</td>\n",
       "      <td>1866</td>\n",
       "      <td>1575000.0</td>\n",
       "      <td>1575000.0</td>\n",
       "      <td>121221.335938</td>\n",
       "      <td>121171.335938</td>\n",
       "      <td>121182.664062</td>\n",
       "      <td>49207.50</td>\n",
       "      <td>0.0</td>\n",
       "      <td>82012.5</td>\n",
       "      <td>...</td>\n",
       "      <td>7836.897949</td>\n",
       "      <td>6356884.5</td>\n",
       "      <td>315000.0</td>\n",
       "      <td>2000.0</td>\n",
       "      <td>2388.0000</td>\n",
       "      <td>1805.0</td>\n",
       "      <td>4208</td>\n",
       "      <td>1402.000</td>\n",
       "      <td>1409.599976</td>\n",
       "      <td>651.50000</td>\n",
       "    </tr>\n",
       "    <tr>\n",
       "      <th>4</th>\n",
       "      <td>207954.906250</td>\n",
       "      <td>2191</td>\n",
       "      <td>625500.0</td>\n",
       "      <td>625500.0</td>\n",
       "      <td>457.000000</td>\n",
       "      <td>457.000000</td>\n",
       "      <td>449.000000</td>\n",
       "      <td>267727.50</td>\n",
       "      <td>0.0</td>\n",
       "      <td>267727.5</td>\n",
       "      <td>...</td>\n",
       "      <td>11100.336914</td>\n",
       "      <td>6168714.5</td>\n",
       "      <td>180000.0</td>\n",
       "      <td>4000.0</td>\n",
       "      <td>107.0625</td>\n",
       "      <td>821.0</td>\n",
       "      <td>4262</td>\n",
       "      <td>1063.000</td>\n",
       "      <td>13.000000</td>\n",
       "      <td>467.50000</td>\n",
       "    </tr>\n",
       "  </tbody>\n",
       "</table>\n",
       "<p>5 rows × 30 columns</p>\n",
       "</div>"
      ],
      "text/plain": [
       "   BURE_AMT_CREDIT_SUM  DAYS_EMPLOYED  AMT_GOODS_PRICE  AMT_CREDIT  \\\n",
       "0        207623.578125           2329         450000.0    568800.0   \n",
       "1        219042.000000           4469         180000.0    222768.0   \n",
       "2        518070.000000           4458         630000.0    663264.0   \n",
       "3        126739.593750           1866        1575000.0   1575000.0   \n",
       "4        207954.906250           2191         625500.0    625500.0   \n",
       "\n",
       "   PREV_DAYS_LAST_DUE_1ST_VERSION  PREV_DAYS_LAST_DUE  PREV_DAYS_TERMINATION  \\\n",
       "0                     1499.000000         1619.000000            1612.000000   \n",
       "1                      376.000000          466.000000             460.000000   \n",
       "2                      515.666687          715.666687             710.333313   \n",
       "3                   121221.335938       121171.335938          121182.664062   \n",
       "4                      457.000000          457.000000             449.000000   \n",
       "\n",
       "   PREV_AMT_APPLICATION  BURE_AMT_CREDIT_MAX_OVERDUE  PREV_AMT_GOODS_PRICE  \\\n",
       "0              24835.50                          0.0               24835.5   \n",
       "1              22308.75                          0.0               44617.5   \n",
       "2             130871.25                      19305.0              174495.0   \n",
       "3              49207.50                          0.0               82012.5   \n",
       "4             267727.50                          0.0              267727.5   \n",
       "\n",
       "   ...  PREV_INST_AMT_INSTALMENT  BURE_SK_ID_BUREAU  AMT_INCOME_TOTAL  \\\n",
       "0  ...               7312.725098          5896633.0          135000.0   \n",
       "1  ...               6240.205078          6735201.0           99000.0   \n",
       "2  ...              16349.078125          5922081.0          202500.0   \n",
       "3  ...               7836.897949          6356884.5          315000.0   \n",
       "4  ...              11100.336914          6168714.5          180000.0   \n",
       "\n",
       "   DAYS_REGISTRATION  BURE_DAYS_CREDIT_ENDDATE  DAYS_LAST_PHONE_CHANGE  \\\n",
       "0             5168.0                   82.4375                  1740.0   \n",
       "1             9120.0                  439.2500                     0.0   \n",
       "2             2176.0                 1068.0000                   856.0   \n",
       "3             2000.0                 2388.0000                  1805.0   \n",
       "4             4000.0                  107.0625                   821.0   \n",
       "\n",
       "   DAYS_ID_PUBLISH  BURE_DAYS_CREDIT  PREV_SELLERPLACE_AREA  \\\n",
       "0              812           735.000              23.000000   \n",
       "1             1623           190.625              18.000000   \n",
       "2             3503          1738.000              82.000000   \n",
       "3             4208          1402.000            1409.599976   \n",
       "4             4262          1063.000              13.000000   \n",
       "\n",
       "   BURE_DAYS_CREDIT_UPDATE  \n",
       "0                 93.12500  \n",
       "1                 54.34375  \n",
       "2                775.50000  \n",
       "3                651.50000  \n",
       "4                467.50000  \n",
       "\n",
       "[5 rows x 30 columns]"
      ]
     },
     "execution_count": 156,
     "metadata": {},
     "output_type": "execute_result"
    }
   ],
   "source": [
    "pred_data = data_test[scoring_feature.sort_values(by='Score', ascending=False).Features.head(30).to_list()]\n",
    "pred_data.head()"
   ]
  },
  {
   "cell_type": "code",
   "execution_count": 157,
   "id": "ab232545",
   "metadata": {},
   "outputs": [
    {
     "data": {
      "text/plain": [
       "(48744, 30)"
      ]
     },
     "execution_count": 157,
     "metadata": {},
     "output_type": "execute_result"
    }
   ],
   "source": [
    "pred_data.shape"
   ]
  },
  {
   "cell_type": "code",
   "execution_count": 164,
   "id": "0ce0bc23",
   "metadata": {},
   "outputs": [],
   "source": [
    "model = joblib.load('lgbm_model.pkl')\n",
    "model_us = joblib.load('lgbm_model_rus.pkl')"
   ]
  },
  {
   "cell_type": "markdown",
   "id": "72cb4aed",
   "metadata": {},
   "source": [
    "**Oversampling**"
   ]
  },
  {
   "cell_type": "code",
   "execution_count": 165,
   "id": "8b68d1a9",
   "metadata": {
    "scrolled": true
   },
   "outputs": [
    {
     "data": {
      "text/html": [
       "<div>\n",
       "<style scoped>\n",
       "    .dataframe tbody tr th:only-of-type {\n",
       "        vertical-align: middle;\n",
       "    }\n",
       "\n",
       "    .dataframe tbody tr th {\n",
       "        vertical-align: top;\n",
       "    }\n",
       "\n",
       "    .dataframe thead th {\n",
       "        text-align: right;\n",
       "    }\n",
       "</style>\n",
       "<table border=\"1\" class=\"dataframe\">\n",
       "  <thead>\n",
       "    <tr style=\"text-align: right;\">\n",
       "      <th></th>\n",
       "      <th>SK_ID_CURR</th>\n",
       "      <th>TARGET</th>\n",
       "    </tr>\n",
       "  </thead>\n",
       "  <tbody>\n",
       "    <tr>\n",
       "      <th>0</th>\n",
       "      <td>100001</td>\n",
       "      <td>0</td>\n",
       "    </tr>\n",
       "    <tr>\n",
       "      <th>1</th>\n",
       "      <td>100005</td>\n",
       "      <td>0</td>\n",
       "    </tr>\n",
       "    <tr>\n",
       "      <th>2</th>\n",
       "      <td>100013</td>\n",
       "      <td>0</td>\n",
       "    </tr>\n",
       "    <tr>\n",
       "      <th>3</th>\n",
       "      <td>100028</td>\n",
       "      <td>0</td>\n",
       "    </tr>\n",
       "    <tr>\n",
       "      <th>4</th>\n",
       "      <td>100038</td>\n",
       "      <td>0</td>\n",
       "    </tr>\n",
       "    <tr>\n",
       "      <th>5</th>\n",
       "      <td>100042</td>\n",
       "      <td>0</td>\n",
       "    </tr>\n",
       "    <tr>\n",
       "      <th>6</th>\n",
       "      <td>100057</td>\n",
       "      <td>0</td>\n",
       "    </tr>\n",
       "    <tr>\n",
       "      <th>7</th>\n",
       "      <td>100065</td>\n",
       "      <td>0</td>\n",
       "    </tr>\n",
       "    <tr>\n",
       "      <th>8</th>\n",
       "      <td>100066</td>\n",
       "      <td>0</td>\n",
       "    </tr>\n",
       "    <tr>\n",
       "      <th>9</th>\n",
       "      <td>100067</td>\n",
       "      <td>0</td>\n",
       "    </tr>\n",
       "    <tr>\n",
       "      <th>10</th>\n",
       "      <td>100074</td>\n",
       "      <td>0</td>\n",
       "    </tr>\n",
       "    <tr>\n",
       "      <th>11</th>\n",
       "      <td>100090</td>\n",
       "      <td>0</td>\n",
       "    </tr>\n",
       "    <tr>\n",
       "      <th>12</th>\n",
       "      <td>100091</td>\n",
       "      <td>0</td>\n",
       "    </tr>\n",
       "    <tr>\n",
       "      <th>13</th>\n",
       "      <td>100092</td>\n",
       "      <td>0</td>\n",
       "    </tr>\n",
       "    <tr>\n",
       "      <th>14</th>\n",
       "      <td>100106</td>\n",
       "      <td>0</td>\n",
       "    </tr>\n",
       "  </tbody>\n",
       "</table>\n",
       "</div>"
      ],
      "text/plain": [
       "    SK_ID_CURR  TARGET\n",
       "0       100001       0\n",
       "1       100005       0\n",
       "2       100013       0\n",
       "3       100028       0\n",
       "4       100038       0\n",
       "5       100042       0\n",
       "6       100057       0\n",
       "7       100065       0\n",
       "8       100066       0\n",
       "9       100067       0\n",
       "10      100074       0\n",
       "11      100090       0\n",
       "12      100091       0\n",
       "13      100092       0\n",
       "14      100106       0"
      ]
     },
     "execution_count": 165,
     "metadata": {},
     "output_type": "execute_result"
    }
   ],
   "source": [
    "predict = pd.Series(model.predict(pred_data), name = \"TARGET\").astype(int)\n",
    "submission = pd.concat([data_test['SK_ID_CURR'], predict],axis = 1)\n",
    "submission.head(15)"
   ]
  },
  {
   "cell_type": "code",
   "execution_count": 166,
   "id": "ad155ac9",
   "metadata": {},
   "outputs": [
    {
     "data": {
      "text/plain": [
       "TARGET\n",
       "0    48278\n",
       "1      466\n",
       "Name: count, dtype: int64"
      ]
     },
     "execution_count": 166,
     "metadata": {},
     "output_type": "execute_result"
    }
   ],
   "source": [
    "submission.TARGET.value_counts()"
   ]
  },
  {
   "cell_type": "code",
   "execution_count": 167,
   "id": "56b1ec6b",
   "metadata": {},
   "outputs": [
    {
     "data": {
      "image/png": "[encoded data removed]",
      "text/plain": [
       "<Figure size 640x480 with 1 Axes>"
      ]
     },
     "metadata": {},
     "output_type": "display_data"
    }
   ],
   "source": [
    "sns.countplot(x='TARGET', data=submission, palette=['skyblue', 'lightcoral'])\n",
    "plt.title(\"Prediction of Target\", loc=\"center\", fontsize=15, pad=10)\n",
    "plt.ylabel(None)\n",
    "plt.xlabel(None)\n",
    "plt.tick_params(axis='x', labelsize=10)\n",
    "plt.tick_params(axis='y', labelsize=12)\n",
    "plt.show()"
   ]
  },
  {
   "cell_type": "code",
   "execution_count": 168,
   "id": "a495bc63",
   "metadata": {},
   "outputs": [
    {
     "data": {
      "image/png": "[encoded data removed]",
      "text/plain": [
       "<Figure size 640x480 with 1 Axes>"
      ]
     },
     "metadata": {},
     "output_type": "display_data"
    }
   ],
   "source": [
    "submission.TARGET.value_counts().plot.pie(autopct='%1.1f%%', colors=['skyblue', 'lightcoral'])\n",
    "plt.title('Prediction of Target')\n",
    "plt.ylabel(None)\n",
    "plt.show()"
   ]
  },
  {
   "cell_type": "code",
   "execution_count": 173,
   "id": "5f660a56",
   "metadata": {},
   "outputs": [],
   "source": [
    "submission.to_excel(\"submission_lgbm.xlsx\", index = False)"
   ]
  },
  {
   "cell_type": "markdown",
   "id": "649c32d1",
   "metadata": {},
   "source": [
    "**Undersampling**"
   ]
  },
  {
   "cell_type": "code",
   "execution_count": 169,
   "id": "5c88cd9c",
   "metadata": {
    "scrolled": true
   },
   "outputs": [
    {
     "data": {
      "text/html": [
       "<div>\n",
       "<style scoped>\n",
       "    .dataframe tbody tr th:only-of-type {\n",
       "        vertical-align: middle;\n",
       "    }\n",
       "\n",
       "    .dataframe tbody tr th {\n",
       "        vertical-align: top;\n",
       "    }\n",
       "\n",
       "    .dataframe thead th {\n",
       "        text-align: right;\n",
       "    }\n",
       "</style>\n",
       "<table border=\"1\" class=\"dataframe\">\n",
       "  <thead>\n",
       "    <tr style=\"text-align: right;\">\n",
       "      <th></th>\n",
       "      <th>SK_ID_CURR</th>\n",
       "      <th>TARGET</th>\n",
       "    </tr>\n",
       "  </thead>\n",
       "  <tbody>\n",
       "    <tr>\n",
       "      <th>0</th>\n",
       "      <td>100001</td>\n",
       "      <td>0</td>\n",
       "    </tr>\n",
       "    <tr>\n",
       "      <th>1</th>\n",
       "      <td>100005</td>\n",
       "      <td>0</td>\n",
       "    </tr>\n",
       "    <tr>\n",
       "      <th>2</th>\n",
       "      <td>100013</td>\n",
       "      <td>1</td>\n",
       "    </tr>\n",
       "    <tr>\n",
       "      <th>3</th>\n",
       "      <td>100028</td>\n",
       "      <td>0</td>\n",
       "    </tr>\n",
       "    <tr>\n",
       "      <th>4</th>\n",
       "      <td>100038</td>\n",
       "      <td>0</td>\n",
       "    </tr>\n",
       "    <tr>\n",
       "      <th>5</th>\n",
       "      <td>100042</td>\n",
       "      <td>1</td>\n",
       "    </tr>\n",
       "    <tr>\n",
       "      <th>6</th>\n",
       "      <td>100057</td>\n",
       "      <td>0</td>\n",
       "    </tr>\n",
       "    <tr>\n",
       "      <th>7</th>\n",
       "      <td>100065</td>\n",
       "      <td>0</td>\n",
       "    </tr>\n",
       "    <tr>\n",
       "      <th>8</th>\n",
       "      <td>100066</td>\n",
       "      <td>0</td>\n",
       "    </tr>\n",
       "    <tr>\n",
       "      <th>9</th>\n",
       "      <td>100067</td>\n",
       "      <td>0</td>\n",
       "    </tr>\n",
       "    <tr>\n",
       "      <th>10</th>\n",
       "      <td>100074</td>\n",
       "      <td>1</td>\n",
       "    </tr>\n",
       "    <tr>\n",
       "      <th>11</th>\n",
       "      <td>100090</td>\n",
       "      <td>0</td>\n",
       "    </tr>\n",
       "    <tr>\n",
       "      <th>12</th>\n",
       "      <td>100091</td>\n",
       "      <td>0</td>\n",
       "    </tr>\n",
       "    <tr>\n",
       "      <th>13</th>\n",
       "      <td>100092</td>\n",
       "      <td>1</td>\n",
       "    </tr>\n",
       "    <tr>\n",
       "      <th>14</th>\n",
       "      <td>100106</td>\n",
       "      <td>0</td>\n",
       "    </tr>\n",
       "  </tbody>\n",
       "</table>\n",
       "</div>"
      ],
      "text/plain": [
       "    SK_ID_CURR  TARGET\n",
       "0       100001       0\n",
       "1       100005       0\n",
       "2       100013       1\n",
       "3       100028       0\n",
       "4       100038       0\n",
       "5       100042       1\n",
       "6       100057       0\n",
       "7       100065       0\n",
       "8       100066       0\n",
       "9       100067       0\n",
       "10      100074       1\n",
       "11      100090       0\n",
       "12      100091       0\n",
       "13      100092       1\n",
       "14      100106       0"
      ]
     },
     "execution_count": 169,
     "metadata": {},
     "output_type": "execute_result"
    }
   ],
   "source": [
    "predict = pd.Series(model_us.predict(pred_data), name = \"TARGET\").astype(int)\n",
    "submission_us = pd.concat([data_test['SK_ID_CURR'], predict],axis = 1)\n",
    "submission_us.head(15)"
   ]
  },
  {
   "cell_type": "code",
   "execution_count": 170,
   "id": "5a1647c1",
   "metadata": {},
   "outputs": [
    {
     "data": {
      "text/plain": [
       "TARGET\n",
       "0    41330\n",
       "1     7414\n",
       "Name: count, dtype: int64"
      ]
     },
     "execution_count": 170,
     "metadata": {},
     "output_type": "execute_result"
    }
   ],
   "source": [
    "submission_us.TARGET.value_counts()"
   ]
  },
  {
   "cell_type": "code",
   "execution_count": 171,
   "id": "12686522",
   "metadata": {},
   "outputs": [
    {
     "data": {
      "image/png": "[encoded data removed]",
      "text/plain": [
       "<Figure size 640x480 with 1 Axes>"
      ]
     },
     "metadata": {},
     "output_type": "display_data"
    }
   ],
   "source": [
    "sns.countplot(x='TARGET', data=submission_us, palette=['skyblue', 'lightcoral'])\n",
    "plt.title(\"Prediction of Target\", loc=\"center\", fontsize=15, pad=10)\n",
    "plt.ylabel(None)\n",
    "plt.xlabel(None)\n",
    "plt.tick_params(axis='x', labelsize=10)\n",
    "plt.tick_params(axis='y', labelsize=12)\n",
    "plt.show()"
   ]
  },
  {
   "cell_type": "code",
   "execution_count": 172,
   "id": "fcaa7f5f",
   "metadata": {},
   "outputs": [
    {
     "data": {
      "image/png": "[encoded data removed]",
      "text/plain": [
       "<Figure size 640x480 with 1 Axes>"
      ]
     },
     "metadata": {},
     "output_type": "display_data"
    }
   ],
   "source": [
    "submission_us.TARGET.value_counts().plot.pie(autopct='%1.1f%%', colors=['skyblue', 'lightcoral'])\n",
    "plt.title('Prediction of Target')\n",
    "plt.ylabel(None)\n",
    "plt.show()"
   ]
  },
  {
   "cell_type": "code",
   "execution_count": 175,
   "id": "84fad203",
   "metadata": {},
   "outputs": [],
   "source": [
    "submission_us.to_excel(\"submission_lgbm_us.xlsx\", index = False)"
   ]
  },
  {
   "cell_type": "code",
   "execution_count": null,
   "id": "947cd4e0",
   "metadata": {},
   "outputs": [],
   "source": []
  }
 ],
 "metadata": {
  "kernelspec": {
   "display_name": "Python 3 (ipykernel)",
   "language": "python",
   "name": "python3"
  },
  "language_info": {
   "codemirror_mode": {
    "name": "ipython",
    "version": 3
   },
   "file_extension": ".py",
   "mimetype": "text/x-python",
   "name": "python",
   "nbconvert_exporter": "python",
   "pygments_lexer": "ipython3",
   "version": "3.11.5"
  }
 },
 "nbformat": 4,
 "nbformat_minor": 5
}
